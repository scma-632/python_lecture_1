{
 "cells": [
  {
   "cell_type": "code",
   "execution_count": 1,
   "metadata": {},
   "outputs": [],
   "source": [
    "import pandas as pd\n",
    "import numpy as np\n",
    "import os\n",
    "from scipy import stats"
   ]
  },
  {
   "cell_type": "code",
   "execution_count": 2,
   "metadata": {},
   "outputs": [],
   "source": [
    "os.chdir('E:\\\\Christ\\\\2021\\\\Dataset')"
   ]
  },
  {
   "cell_type": "code",
   "execution_count": 3,
   "metadata": {},
   "outputs": [
    {
     "name": "stderr",
     "output_type": "stream",
     "text": [
      "C:\\ProgramData\\Anaconda3\\lib\\site-packages\\IPython\\core\\interactiveshell.py:3051: DtypeWarning: Columns (1) have mixed types. Specify dtype option on import or set low_memory=False.\n",
      "  interactivity=interactivity, compiler=compiler, result=result)\n"
     ]
    }
   ],
   "source": [
    "nss = pd.read_csv('NSSO68.csv')"
   ]
  },
  {
   "cell_type": "markdown",
   "metadata": {},
   "source": [
    "### Is there a significant difference in the Monthly Per Capita Expenditure among Rural and Urban Households"
   ]
  },
  {
   "cell_type": "markdown",
   "metadata": {},
   "source": [
    "###### MPCE for Rural secor\n",
    "###### MPCE for Urban secor"
   ]
  },
  {
   "cell_type": "code",
   "execution_count": 4,
   "metadata": {
    "scrolled": true
   },
   "outputs": [
    {
     "data": {
      "text/plain": [
       "['Unnamed: 0',\n",
       " 'grp',\n",
       " 'Round_Centre',\n",
       " 'FSU_number',\n",
       " 'Round',\n",
       " 'Schedule_Number',\n",
       " 'Sample',\n",
       " 'Sector',\n",
       " 'state',\n",
       " 'State_Region',\n",
       " 'District',\n",
       " 'Stratum_Number',\n",
       " 'Sub_Stratum',\n",
       " 'Schedule_type',\n",
       " 'Sub_Round',\n",
       " 'Sub_Sample',\n",
       " 'FOD_Sub_Region',\n",
       " 'Hamlet_Group_Sub_Block',\n",
       " 'Second',\n",
       " 'X_Stage_Stratum',\n",
       " 'HHS_No',\n",
       " 'Level',\n",
       " 'Filler',\n",
       " 'hhdsz',\n",
       " 'NIC_2008',\n",
       " 'NCO_2004',\n",
       " 'HH_type',\n",
       " 'Religion',\n",
       " 'Social_Group',\n",
       " 'Whether_owns_any_land',\n",
       " 'Type_of_land_owned',\n",
       " 'Land_Owned',\n",
       " 'Land_Leased_in',\n",
       " 'Otherwise_possessed',\n",
       " 'Land_Leased_out',\n",
       " 'Land_Total_possessed',\n",
       " 'During_July_June_Cultivated',\n",
       " 'During_July_June_Irrigated',\n",
       " 'NSS',\n",
       " 'NSC',\n",
       " 'MLT',\n",
       " 'land_tt',\n",
       " 'Cooking_code',\n",
       " 'Lighting_code',\n",
       " 'Dwelling_unit_code',\n",
       " 'Regular_salary_earner',\n",
       " 'Perform_Ceremony',\n",
       " 'Meals_seved_to_non_hhld_members',\n",
       " 'Possess_ration_card',\n",
       " 'Type_of_ration_card',\n",
       " 'MPCE_URP',\n",
       " 'MPCE_MRP',\n",
       " 'Person_Srl_No',\n",
       " 'Relation',\n",
       " 'Sex',\n",
       " 'Age',\n",
       " 'Marital_Status',\n",
       " 'Education',\n",
       " 'Days_Stayed_away',\n",
       " 'No_of_Meals_per_day',\n",
       " 'Meals_School',\n",
       " 'Meals_Employer',\n",
       " 'Meals_Others',\n",
       " 'Meals_Payment',\n",
       " 'Meals_At_Home',\n",
       " 'Item_Code',\n",
       " 'Source_Code',\n",
       " 'ricepds_q',\n",
       " 'riceos_q',\n",
       " 'ricetotal_q',\n",
       " 'chira_q',\n",
       " 'khoi_q',\n",
       " 'muri_q',\n",
       " 'ricepro_q',\n",
       " 'riceGT_q',\n",
       " 'Wheatpds_q',\n",
       " 'wheatos_q',\n",
       " 'wheattotal_q',\n",
       " 'maida_q',\n",
       " 'suji_q',\n",
       " 'sewai_q',\n",
       " 'bread_q',\n",
       " 'wheatp_q',\n",
       " 'wheatGT_q',\n",
       " 'jowarp_q',\n",
       " 'bajrap_q',\n",
       " 'maizep_q',\n",
       " 'barleyp_q',\n",
       " 'milletp_q',\n",
       " 'ragip_q',\n",
       " 'cerealot_q',\n",
       " 'cerealtot_q',\n",
       " 'cerealsub_q',\n",
       " 'cerealstt_q',\n",
       " 'arhar_q',\n",
       " 'gramdal_q',\n",
       " 'gramwholep_q',\n",
       " 'gramGT_q',\n",
       " 'moong_q',\n",
       " 'masur_q',\n",
       " 'urd_q',\n",
       " 'peasdal_q',\n",
       " 'khesari_q',\n",
       " 'otpulse_q',\n",
       " 'gramp_q',\n",
       " 'besan_q',\n",
       " 'pulsep_q',\n",
       " 'pulsestot_q',\n",
       " 'pulsestt_q',\n",
       " 'soyabean_q',\n",
       " 'milk_q',\n",
       " 'babyfood_q',\n",
       " 'milkcond_q',\n",
       " 'curd_q',\n",
       " 'ghee_q',\n",
       " 'butter_q',\n",
       " 'icecream_q',\n",
       " 'otmilkp_q',\n",
       " 'Milktotal_q',\n",
       " 'milkprott_q',\n",
       " 'vanas_q',\n",
       " 'musoil_q',\n",
       " 'gnoil_q',\n",
       " 'cocooil_q',\n",
       " 'edioilothr_q',\n",
       " 'edibletotal_q',\n",
       " 'ediblest_q',\n",
       " 'eggsno_q',\n",
       " 'fishprawn_q',\n",
       " 'goatmeat_q',\n",
       " 'beef_q',\n",
       " 'pork_q',\n",
       " 'chicken_q',\n",
       " 'othrbirds_q',\n",
       " 'nonvegtotal_q',\n",
       " 'emftt_q',\n",
       " 'potato_q',\n",
       " 'onion_q',\n",
       " 'tamato_q',\n",
       " 'brinjal_q',\n",
       " 'radish_q',\n",
       " 'carrot_q',\n",
       " 'palak_q',\n",
       " 'chillig_q',\n",
       " 'bhindi_q',\n",
       " 'parwal_q',\n",
       " 'cauli_q',\n",
       " 'cabbage_q',\n",
       " 'pumpkin_q',\n",
       " 'peas_q',\n",
       " 'fbeans_q',\n",
       " 'lemonno_q',\n",
       " 'otveg_q',\n",
       " 'vegtt_q',\n",
       " 'bananano_q',\n",
       " 'jackfruit_q',\n",
       " 'watermel_q',\n",
       " 'pineaplno_q',\n",
       " 'cocono_q',\n",
       " 'cocogno_q',\n",
       " 'guava_q',\n",
       " 'sighara_q',\n",
       " 'orangeno_q',\n",
       " 'papayar_q',\n",
       " 'mango_q',\n",
       " 'kharbooz_q',\n",
       " 'pears_q',\n",
       " 'berries_q',\n",
       " 'leechi_q',\n",
       " 'apple_q',\n",
       " 'grapes_q',\n",
       " 'otfruits_q',\n",
       " 'fruitstt_q',\n",
       " 'fruitt_total',\n",
       " 'cocodf_q',\n",
       " 'gnutdf_q',\n",
       " 'datesdf_q',\n",
       " 'cashewdf_q',\n",
       " 'walnutdf_q',\n",
       " 'otnutsdf_q',\n",
       " 'kishmish_q',\n",
       " 'otherdf_q',\n",
       " 'dryfruitstotal_q',\n",
       " 'dftt_q',\n",
       " 'sugarpds_q',\n",
       " 'sugaros_q',\n",
       " 'sugarst_q',\n",
       " 'gur_q',\n",
       " 'misri_q',\n",
       " 'honey_q',\n",
       " 'sugartotal_q',\n",
       " 'sugartt_q',\n",
       " 'salt_q',\n",
       " 'ginger_q',\n",
       " 'garlic_q',\n",
       " 'jeera_q',\n",
       " 'dhania_q',\n",
       " 'turnmeric_q',\n",
       " 'blackpepper_q',\n",
       " 'drychilly_q',\n",
       " 'tamarind_q',\n",
       " 'currypowder_q',\n",
       " 'oilseeds_q',\n",
       " 'spicesothr_q',\n",
       " 'spicetot_q',\n",
       " 'spicestotal_q',\n",
       " 'teacupno_q',\n",
       " 'tealeaf_q',\n",
       " 'teatotal_q',\n",
       " 'cofeeno_q',\n",
       " 'coffeepwdr_q',\n",
       " 'cofeetotal_q',\n",
       " 'ice_q',\n",
       " 'coldbvrg_q',\n",
       " 'juice_q',\n",
       " 'othrbevrg_q',\n",
       " 'bevergest_q',\n",
       " 'Biscuits_q',\n",
       " 'preparedsweet_q',\n",
       " 'pickle_q',\n",
       " 'sauce_jam_q',\n",
       " 'Othrprocessed_q',\n",
       " 'Beveragestotal_q',\n",
       " 'ricepds_v',\n",
       " 'riceos_v',\n",
       " 'ricetotal_v',\n",
       " 'chira_v',\n",
       " 'khoi_v',\n",
       " 'muri_v',\n",
       " 'ricepro_v',\n",
       " 'riceGT_v',\n",
       " 'Wheatpds_v',\n",
       " 'wheatos_v',\n",
       " 'wheattotal_v',\n",
       " 'maida_v',\n",
       " 'suji_v',\n",
       " 'sewai_v',\n",
       " 'bread_v',\n",
       " 'wheatp_v',\n",
       " 'wheatGT_v',\n",
       " 'jowarp_v',\n",
       " 'bajrap_v',\n",
       " 'maizep_v',\n",
       " 'barleyp_v',\n",
       " 'milletp_v',\n",
       " 'ragip_v',\n",
       " 'cerealot_v',\n",
       " 'cerealtot_v',\n",
       " 'cerealsub_v',\n",
       " 'cerealstt_v',\n",
       " 'arhar_v',\n",
       " 'gramdal_v',\n",
       " 'gramwholep_v',\n",
       " 'gramGT_v',\n",
       " 'moong_v',\n",
       " 'masur_v',\n",
       " 'urd_v',\n",
       " 'peasdal_v',\n",
       " 'khesari_v',\n",
       " 'otpulse_v',\n",
       " 'gramp_v',\n",
       " 'besan_v',\n",
       " 'pulsep_v',\n",
       " 'pulsestot_v',\n",
       " 'pulsestt_v',\n",
       " 'soyabean_v',\n",
       " 'milk_v',\n",
       " 'babyfood_v',\n",
       " 'milkcond_v',\n",
       " 'curd_v',\n",
       " 'ghee_v',\n",
       " 'butter_v',\n",
       " 'icecream_v',\n",
       " 'otmilkp_v',\n",
       " 'Milktotal_v',\n",
       " 'milkprott_v',\n",
       " 'vanas_v',\n",
       " 'musoil_v',\n",
       " 'gnoil_v',\n",
       " 'cocooil_v',\n",
       " 'edioilothr_v',\n",
       " 'edibletotal_v',\n",
       " 'ediblest_v',\n",
       " 'eggsno_v',\n",
       " 'fishprawn_v',\n",
       " 'goatmeat_v',\n",
       " 'beef_v',\n",
       " 'pork_v',\n",
       " 'chicken_v',\n",
       " 'othrbirds_v',\n",
       " 'nonvegtotal_v',\n",
       " 'emftt_v',\n",
       " 'potato_v',\n",
       " 'onion_v',\n",
       " 'tamato_v',\n",
       " 'brinjal_v',\n",
       " 'radish_v',\n",
       " 'carrot_v',\n",
       " 'palak_v',\n",
       " 'chillig_v',\n",
       " 'bhindi_v',\n",
       " 'parwal_v',\n",
       " 'cauli_v',\n",
       " 'cabbage_v',\n",
       " 'pumpkin_v',\n",
       " 'peas_v',\n",
       " 'fbeans_v',\n",
       " 'lemonno_v',\n",
       " 'otveg_v',\n",
       " 'vegtt_v',\n",
       " 'bananano_v',\n",
       " 'jackfruit_v',\n",
       " 'watermel_v',\n",
       " 'pineaplno_v',\n",
       " 'cocono_v',\n",
       " 'cocogno_v',\n",
       " 'guava_v',\n",
       " 'sighara_v',\n",
       " 'orangeno_v',\n",
       " 'papayar_v',\n",
       " 'mango_v',\n",
       " 'kharbooz_v',\n",
       " 'pears_v',\n",
       " 'berries_v',\n",
       " 'leechi_v',\n",
       " 'apple_v',\n",
       " 'grapes_v',\n",
       " 'otfruits_v',\n",
       " 'fruitstt_v',\n",
       " 'cocodf_v',\n",
       " 'gnutdf_v',\n",
       " 'datesdf_v',\n",
       " 'cashewdf_v',\n",
       " 'walnutdf_v',\n",
       " 'otnutsdf_v',\n",
       " 'kishmish_v',\n",
       " 'otherdf_v',\n",
       " 'dryfruitstotal_v',\n",
       " 'dftt_v',\n",
       " 'sugarpds_v',\n",
       " 'sugaros_v',\n",
       " 'sugarst_v',\n",
       " 'gur_v',\n",
       " 'misri_v',\n",
       " 'honey_v',\n",
       " 'sugartotal_v',\n",
       " 'sugartt_v',\n",
       " 'salt_v',\n",
       " 'ginger_v',\n",
       " 'garlic_v',\n",
       " 'jeera_v',\n",
       " 'dhania_v',\n",
       " 'turnmeric_v',\n",
       " 'blackpepper_v',\n",
       " 'drychilly_v',\n",
       " 'tamarind_v',\n",
       " 'currypowder_v',\n",
       " 'oilseeds_v',\n",
       " 'spicesothr_v',\n",
       " 'spicetot_v',\n",
       " 'spicestotal_v',\n",
       " 'teacupno_v',\n",
       " 'tealeaf_v',\n",
       " 'teatotal_v',\n",
       " 'cofeeno_v',\n",
       " 'coffeepwdr_v',\n",
       " 'cofeetotal_v',\n",
       " 'ice_v',\n",
       " 'coldbvrg_v',\n",
       " 'juice_v',\n",
       " 'othrbevrg_v',\n",
       " 'bevergest_v',\n",
       " 'Biscuits_v',\n",
       " 'preparedsweet_v',\n",
       " 'pickle_v',\n",
       " 'sauce_jam_v',\n",
       " 'Othrprocessed_v',\n",
       " 'Beveragestotal_v',\n",
       " 'foodtotal_v',\n",
       " 'foodtotal_q',\n",
       " 'state_1',\n",
       " 'Region',\n",
       " 'fruits_df_tt_v',\n",
       " 'fv_tot']"
      ]
     },
     "execution_count": 4,
     "metadata": {},
     "output_type": "execute_result"
    }
   ],
   "source": [
    "list(nss)"
   ]
  },
  {
   "cell_type": "code",
   "execution_count": 5,
   "metadata": {},
   "outputs": [],
   "source": [
    "# Sector 1: Rural\n",
    "# Sector 2: Urban\n",
    "# Variable: MPCE_MRP"
   ]
  },
  {
   "cell_type": "code",
   "execution_count": 7,
   "metadata": {},
   "outputs": [],
   "source": [
    "rural_exp = nss[nss['Sector'] == 1]['MPCE_MRP']\n",
    "urban_exp = nss[nss['Sector'] == 2]['MPCE_MRP']"
   ]
  },
  {
   "cell_type": "code",
   "execution_count": 9,
   "metadata": {},
   "outputs": [
    {
     "name": "stdout",
     "output_type": "stream",
     "text": [
      "Average Monthly Expenditure of Rural Households 1654.0\n",
      "Average Monthly Expenditure of Urban Households 2683.0\n"
     ]
    }
   ],
   "source": [
    "print('Average Monthly Expenditure of Rural Households', round(rural_exp.mean(),0))\n",
    "print('Average Monthly Expenditure of Urban Households', round(urban_exp.mean(),0))"
   ]
  },
  {
   "cell_type": "code",
   "execution_count": 11,
   "metadata": {},
   "outputs": [
    {
     "data": {
      "text/plain": [
       "(59695, 41967)"
      ]
     },
     "execution_count": 11,
     "metadata": {},
     "output_type": "execute_result"
    }
   ],
   "source": [
    "len(rural_exp),len(urban_exp)"
   ]
  },
  {
   "cell_type": "markdown",
   "metadata": {},
   "source": [
    "### Steps involved in Hypothesis Testing\n",
    "#### 1. Formulate the Hypothesis\n",
    "######   Ho: No significant difference in the mean MPCE of rural and urban households\n",
    "######   H1: There is a difference in the mean MPCE of rural and urban households\n",
    "#### 2. Level of Significance: (Alpha: 0.05)\n",
    "#### 3. To find the test criteria: t-test\n",
    "#### 4. Computation\n",
    "#### 5. Interpretation: If the p-values is less thal alpha (0.05), we may reject the Ho"
   ]
  },
  {
   "cell_type": "code",
   "execution_count": 12,
   "metadata": {},
   "outputs": [],
   "source": [
    "from scipy import stats"
   ]
  },
  {
   "cell_type": "code",
   "execution_count": null,
   "metadata": {},
   "outputs": [],
   "source": [
    "stats.tt"
   ]
  },
  {
   "cell_type": "code",
   "execution_count": 13,
   "metadata": {},
   "outputs": [
    {
     "data": {
      "text/plain": [
       "Ttest_indResult(statistic=-78.8976432656127, pvalue=0.0)"
      ]
     },
     "execution_count": 13,
     "metadata": {},
     "output_type": "execute_result"
    }
   ],
   "source": [
    "stats.ttest_ind(rural_exp, urban_exp)"
   ]
  },
  {
   "cell_type": "code",
   "execution_count": 14,
   "metadata": {},
   "outputs": [],
   "source": [
    "t,p = stats.ttest_ind(rural_exp, urban_exp)"
   ]
  },
  {
   "cell_type": "code",
   "execution_count": 15,
   "metadata": {},
   "outputs": [
    {
     "name": "stdout",
     "output_type": "stream",
     "text": [
      "t-statistic:  -78.8976432656127\n",
      "p-value:  0.0\n"
     ]
    }
   ],
   "source": [
    "print('t-statistic: ',t)\n",
    "print('p-value: ',p)"
   ]
  },
  {
   "cell_type": "markdown",
   "metadata": {},
   "source": [
    "#### Interpretation\n",
    "##### Since p-value (0.0) is less than the alpha (0.05), we may reject the Ho\n",
    "##### There is significant difference in the mean per capita expenditure of rural and urban households"
   ]
  },
  {
   "cell_type": "markdown",
   "metadata": {},
   "source": [
    "## Whether Female and Male households consume same amount of rice?"
   ]
  },
  {
   "cell_type": "code",
   "execution_count": 16,
   "metadata": {},
   "outputs": [
    {
     "data": {
      "text/plain": [
       "1    89908\n",
       "2    11754\n",
       "Name: Sex, dtype: int64"
      ]
     },
     "execution_count": 16,
     "metadata": {},
     "output_type": "execute_result"
    }
   ],
   "source": [
    "nss['Sex'].value_counts()"
   ]
  },
  {
   "cell_type": "code",
   "execution_count": 17,
   "metadata": {},
   "outputs": [],
   "source": [
    "male_rice = nss[nss['Sex']==1]['ricetotal_q']\n",
    "female_rice = nss[nss['Sex']==2]['ricetotal_q']"
   ]
  },
  {
   "cell_type": "code",
   "execution_count": 19,
   "metadata": {},
   "outputs": [
    {
     "name": "stdout",
     "output_type": "stream",
     "text": [
      "Average Monthly Rice Consumption by Male:  6.539\n",
      "Average Monthly Rice Consumption by Female: 7.04\n"
     ]
    }
   ],
   "source": [
    "print('Average Monthly Rice Consumption by Male: ', round(male_rice.mean(),3))\n",
    "print('Average Monthly Rice Consumption by Female:', round(female_rice.mean(),3))"
   ]
  },
  {
   "cell_type": "code",
   "execution_count": 20,
   "metadata": {},
   "outputs": [],
   "source": [
    "t,p = stats.ttest_ind(male_rice,female_rice)"
   ]
  },
  {
   "cell_type": "code",
   "execution_count": 21,
   "metadata": {},
   "outputs": [
    {
     "name": "stdout",
     "output_type": "stream",
     "text": [
      "t-statistic:  -10.683772770312984\n",
      "p-value:  1.2525636744856226e-26\n"
     ]
    }
   ],
   "source": [
    "print('t-statistic: ',t)\n",
    "print('p-value: ',p)"
   ]
  },
  {
   "cell_type": "markdown",
   "metadata": {},
   "source": [
    "#### Whether the Pulse consumption differs if a family is headed be male and female?"
   ]
  },
  {
   "cell_type": "code",
   "execution_count": 22,
   "metadata": {},
   "outputs": [
    {
     "name": "stdout",
     "output_type": "stream",
     "text": [
      "Average Monthly Pulse Consumption by Male:  0.866\n",
      "Average Monthly Pulse Consumption by Female: 0.941\n",
      "t-statistic:  -11.545449757405887\n",
      "p-value:  8.13595941608906e-31\n"
     ]
    }
   ],
   "source": [
    "male_pulse = nss[nss['Sex']==1]['pulsestt_q']\n",
    "female_pulse = nss[nss['Sex']==2]['pulsestt_q']\n",
    "print('Average Monthly Pulse Consumption by Male: ', round(male_pulse.mean(),3))\n",
    "print('Average Monthly Pulse Consumption by Female:', round(female_pulse.mean(),3))\n",
    "t,p = stats.ttest_ind(male_pulse,female_pulse)\n",
    "print('t-statistic: ',t)\n",
    "print('p-value: ',p)"
   ]
  },
  {
   "cell_type": "markdown",
   "metadata": {},
   "source": [
    "#### Whether the Meat consumption differs if a family is headed be male and female?"
   ]
  },
  {
   "cell_type": "code",
   "execution_count": 23,
   "metadata": {},
   "outputs": [
    {
     "name": "stdout",
     "output_type": "stream",
     "text": [
      "Average Monthly Meat Consumption by Male:  69.199\n",
      "Average Monthly Meat Consumption by Female: 81.395\n",
      "t-statistic:  -10.985490581430788\n",
      "p-value:  4.654203323491293e-28\n"
     ]
    }
   ],
   "source": [
    "male_meat = nss[nss['Sex']==1]['emftt_v']\n",
    "female_meat = nss[nss['Sex']==2]['emftt_v']\n",
    "print('Average Monthly Meat Consumption by Male: ', round(male_meat.mean(),3))\n",
    "print('Average Monthly Meat Consumption by Female:', round(female_meat.mean(),3))\n",
    "t,p = stats.ttest_ind(male_meat,female_meat)\n",
    "print('t-statistic: ',t)\n",
    "print('p-value: ',p)"
   ]
  },
  {
   "cell_type": "markdown",
   "metadata": {},
   "source": [
    "### Is there a significant difference in Meat consumption rural and urban households"
   ]
  },
  {
   "cell_type": "code",
   "execution_count": 31,
   "metadata": {},
   "outputs": [
    {
     "name": "stdout",
     "output_type": "stream",
     "text": [
      "Average Monthly Expenditure of Rural Households 1654.0\n",
      "Average Monthly Expenditure of Urban Households 2683.0\n",
      "t-statistic:  -78.8976432656127\n",
      "p-value:  0.0\n"
     ]
    }
   ],
   "source": [
    "rural_exp = nss[nss['Sector'] == 1]['MPCE_MRP']\n",
    "urban_exp = nss[nss['Sector'] == 2]['MPCE_MRP']\n",
    "print('Average Monthly Expenditure of Rural Households', round(rural_exp.mean(),0))\n",
    "print('Average Monthly Expenditure of Urban Households', round(urban_exp.mean(),0))\n",
    "t,p = stats.ttest_ind(rural_exp, urban_exp)\n",
    "print('t-statistic: ',t)\n",
    "print('p-value: ',p)"
   ]
  },
  {
   "cell_type": "code",
   "execution_count": 32,
   "metadata": {},
   "outputs": [
    {
     "name": "stdout",
     "output_type": "stream",
     "text": [
      "Average Monthly Cereals Consumption by Rural Households:  11.682\n",
      "Average Monthly Cereals Consumption by Urban Households: 10.035\n",
      "t-statistic:  67.4018709678247\n",
      "p-value:  0.0\n"
     ]
    }
   ],
   "source": [
    "rural_cereals = nss[nss['Sector']==1]['cerealstt_q']\n",
    "urban_cereals = nss[nss['Sector']==2]['cerealstt_q']\n",
    "print('Average Monthly Cereals Consumption by Rural Households: ', round(rural_cereals.mean(),3))\n",
    "print('Average Monthly Cereals Consumption by Urban Households:', round(urban_cereals.mean(),3))\n",
    "t,p = stats.ttest_ind(rural_cereals,urban_cereals)\n",
    "print('t-statistic: ',t)\n",
    "print('p-value: ',p)"
   ]
  },
  {
   "cell_type": "code",
   "execution_count": 33,
   "metadata": {},
   "outputs": [
    {
     "name": "stdout",
     "output_type": "stream",
     "text": [
      "Average Monthly Pulse Consumption by Rural Households:  0.845547\n",
      "Average Monthly Pulse Consumption by Urban Households: 0.91571\n",
      "t-statistic:  -16.7238512138305\n",
      "p-value:  1.0659783192116014e-62\n"
     ]
    }
   ],
   "source": [
    "rural_pulse = nss[nss['Sector']==1]['pulsestt_q']\n",
    "urban_pulse = nss[nss['Sector']==2]['pulsestt_q']\n",
    "print('Average Monthly Pulse Consumption by Rural Households: ', round(rural_pulse.mean(),6))\n",
    "print('Average Monthly Pulse Consumption by Urban Households:', round(urban_pulse.mean(),6))\n",
    "t,p = stats.ttest_ind(rural_pulse,urban_pulse)\n",
    "print('t-statistic: ',t)\n",
    "print('p-value: ',p)"
   ]
  },
  {
   "cell_type": "code",
   "execution_count": 34,
   "metadata": {},
   "outputs": [
    {
     "name": "stdout",
     "output_type": "stream",
     "text": [
      "Average Monthly Meat Consumption by Rural Households:  64.345\n",
      "Average Monthly Meat Consumption by Urban Households: 79.52\n",
      "t-statistic:  -21.078389641743378\n",
      "p-value:  2.0421824590535563e-98\n"
     ]
    }
   ],
   "source": [
    "rural_meat = nss[nss['Sector']==1]['emftt_v']\n",
    "urban_meat = nss[nss['Sector']==2]['emftt_v']\n",
    "print('Average Monthly Meat Consumption by Rural Households: ', round(rural_meat.mean(),3))\n",
    "print('Average Monthly Meat Consumption by Urban Households:', round(urban_meat.mean(),3))\n",
    "t,p = stats.ttest_ind(rural_meat,urban_meat)\n",
    "print('t-statistic: ',t)\n",
    "print('p-value: ',p)"
   ]
  },
  {
   "cell_type": "code",
   "execution_count": 35,
   "metadata": {},
   "outputs": [
    {
     "name": "stdout",
     "output_type": "stream",
     "text": [
      "Average Monthly Meat Consumption by Rural Households:  0.54\n",
      "Average Monthly Meat Consumption by Urban Households: 0.61\n",
      "t-statistic:  -11.50346867806878\n",
      "p-value:  1.3237540818884363e-30\n"
     ]
    }
   ],
   "source": [
    "rural_meat = nss[nss['Sector']==1]['emftt_q']\n",
    "urban_meat = nss[nss['Sector']==2]['emftt_q']\n",
    "print('Average Monthly Meat Consumption by Rural Households: ', round(rural_meat.mean(),3))\n",
    "print('Average Monthly Meat Consumption by Urban Households:', round(urban_meat.mean(),3))\n",
    "t,p = stats.ttest_ind(rural_meat,urban_meat)\n",
    "print('t-statistic: ',t)\n",
    "print('p-value: ',p)"
   ]
  },
  {
   "cell_type": "code",
   "execution_count": 37,
   "metadata": {},
   "outputs": [
    {
     "name": "stdout",
     "output_type": "stream",
     "text": [
      "Average Monthly Vegetable Consumption by Rural Households:  4.876\n",
      "Average Monthly Vegetable Consumption by Urban Households: 5.064\n",
      "t-statistic:  -9.748980655902798\n",
      "p-value:  1.9060117377950527e-22\n"
     ]
    }
   ],
   "source": [
    "rural_veg = nss[nss['Sector']==1]['vegtt_q']\n",
    "urban_veg = nss[nss['Sector']==2]['vegtt_q']\n",
    "print('Average Monthly Vegetable Consumption by Rural Households: ', round(rural_veg.mean(),3))\n",
    "print('Average Monthly Vegetable Consumption by Urban Households:', round(urban_veg.mean(),3))\n",
    "t,p = stats.ttest_ind(rural_veg,urban_veg)\n",
    "print('t-statistic: ',t)\n",
    "print('p-value: ',p)"
   ]
  },
  {
   "cell_type": "code",
   "execution_count": 39,
   "metadata": {},
   "outputs": [
    {
     "name": "stdout",
     "output_type": "stream",
     "text": [
      "Average Monthly Fruits Consumption by Rural Households:  15.63\n",
      "Average Monthly Fruits Consumption by Urban Households: 29.528\n",
      "t-statistic:  -60.18668186835318\n",
      "p-value:  0.0\n"
     ]
    }
   ],
   "source": [
    "rural_fruits = nss[nss['Sector']==1]['fruitt_total']\n",
    "urban_fruits = nss[nss['Sector']==2]['fruitt_total']\n",
    "print('Average Monthly Fruits Consumption by Rural Households: ', round(rural_fruits.mean(),3))\n",
    "print('Average Monthly Fruits Consumption by Urban Households:', round(urban_fruits.mean(),3))\n",
    "t,p = stats.ttest_ind(rural_fruits,urban_fruits)\n",
    "print('t-statistic: ',t)\n",
    "print('p-value: ',p)"
   ]
  },
  {
   "cell_type": "code",
   "execution_count": 72,
   "metadata": {},
   "outputs": [
    {
     "name": "stdout",
     "output_type": "stream",
     "text": [
      "Average Monthly Milk Consumption by Rural Households:  5.092\n",
      "Average Monthly Milk Consumption by Urban Households: 5.801\n",
      "t-statistic:  -18.643848053712745\n",
      "p-value:  1.908851630880431e-77\n"
     ]
    }
   ],
   "source": [
    "rural_milk = nss[nss['Sector']==1]['milkprott_q']\n",
    "urban_milk = nss[nss['Sector']==2]['milkprott_q']\n",
    "print('Average Monthly Milk Consumption by Rural Households: ', round(rural_milk.mean(),3))\n",
    "print('Average Monthly Milk Consumption by Urban Households:', round(urban_milk.mean(),3))\n",
    "t,p = stats.ttest_ind(rural_milk,urban_milk)\n",
    "print('t-statistic: ',t)\n",
    "print('p-value: ',p)"
   ]
  },
  {
   "cell_type": "markdown",
   "metadata": {},
   "source": [
    "### Z-test"
   ]
  },
  {
   "cell_type": "code",
   "execution_count": 24,
   "metadata": {},
   "outputs": [],
   "source": [
    "from statsmodels.stats.weightstats import ztest"
   ]
  },
  {
   "cell_type": "code",
   "execution_count": 40,
   "metadata": {},
   "outputs": [
    {
     "data": {
      "text/plain": [
       "(-60.18668186835318, 0.0)"
      ]
     },
     "execution_count": 40,
     "metadata": {},
     "output_type": "execute_result"
    }
   ],
   "source": [
    "ztest(rural_fruits, urban_fruits)"
   ]
  },
  {
   "cell_type": "code",
   "execution_count": 41,
   "metadata": {},
   "outputs": [
    {
     "data": {
      "text/plain": [
       "(-9.748980655902798, 1.863297623248107e-22)"
      ]
     },
     "execution_count": 41,
     "metadata": {},
     "output_type": "execute_result"
    }
   ],
   "source": [
    "ztest(rural_veg, urban_veg)"
   ]
  },
  {
   "cell_type": "markdown",
   "metadata": {},
   "source": [
    "### To find out if there is significant difference in mean expenditure among social groups"
   ]
  },
  {
   "cell_type": "code",
   "execution_count": 42,
   "metadata": {},
   "outputs": [
    {
     "data": {
      "text/plain": [
       "array([ 3.,  9.,  2.,  1., nan])"
      ]
     },
     "execution_count": 42,
     "metadata": {},
     "output_type": "execute_result"
    }
   ],
   "source": [
    "nss['Social_Group'].unique()"
   ]
  },
  {
   "cell_type": "code",
   "execution_count": 43,
   "metadata": {},
   "outputs": [],
   "source": [
    "def social_cat (vals):\n",
    "    if vals == 1:\n",
    "        return 'SC'\n",
    "    elif vals == 2:\n",
    "        return 'ST'\n",
    "    elif vals == 3:\n",
    "        return 'OBC'\n",
    "    else:\n",
    "        return 'GEN'      "
   ]
  },
  {
   "cell_type": "code",
   "execution_count": 45,
   "metadata": {},
   "outputs": [],
   "source": [
    "nss['Soc_cat'] = nss['Social_Group'].apply(social_cat)"
   ]
  },
  {
   "cell_type": "code",
   "execution_count": 44,
   "metadata": {},
   "outputs": [
    {
     "data": {
      "text/plain": [
       "3.0    39914\n",
       "9.0    32408\n",
       "2.0    15697\n",
       "1.0    13629\n",
       "Name: Social_Group, dtype: int64"
      ]
     },
     "execution_count": 44,
     "metadata": {},
     "output_type": "execute_result"
    }
   ],
   "source": [
    "nss['Social_Group'].value_counts()"
   ]
  },
  {
   "cell_type": "code",
   "execution_count": 46,
   "metadata": {},
   "outputs": [
    {
     "data": {
      "text/plain": [
       "OBC    39914\n",
       "GEN    32422\n",
       "ST     15697\n",
       "SC     13629\n",
       "Name: Soc_cat, dtype: int64"
      ]
     },
     "execution_count": 46,
     "metadata": {},
     "output_type": "execute_result"
    }
   ],
   "source": [
    "nss['Soc_cat'].value_counts()"
   ]
  },
  {
   "cell_type": "markdown",
   "metadata": {},
   "source": [
    "### ANOVA"
   ]
  },
  {
   "cell_type": "markdown",
   "metadata": {},
   "source": [
    "##### Mean expenditure for social groupd"
   ]
  },
  {
   "cell_type": "code",
   "execution_count": 47,
   "metadata": {
    "collapsed": true
   },
   "outputs": [
    {
     "data": {
      "text/plain": [
       "Soc_cat\n",
       "GEN    2644.552522\n",
       "OBC    1932.239482\n",
       "SC     1688.099440\n",
       "ST     1621.826566\n",
       "Name: MPCE_MRP, dtype: float64"
      ]
     },
     "execution_count": 47,
     "metadata": {},
     "output_type": "execute_result"
    }
   ],
   "source": [
    "nss.groupby('Soc_cat')['MPCE_MRP'].mean()"
   ]
  },
  {
   "cell_type": "markdown",
   "metadata": {},
   "source": [
    "#### Ho: Avg mpce of all the groups is same\n",
    "#### H1: Avg mpce of atleast one group is significantly different from the other"
   ]
  },
  {
   "cell_type": "code",
   "execution_count": 48,
   "metadata": {},
   "outputs": [],
   "source": [
    "import statsmodels.api as sm\n",
    "from statsmodels.formula.api import ols"
   ]
  },
  {
   "cell_type": "code",
   "execution_count": 49,
   "metadata": {},
   "outputs": [],
   "source": [
    "model = ols('MPCE_MRP ~ C(Soc_cat)', data=nss).fit()"
   ]
  },
  {
   "cell_type": "code",
   "execution_count": 50,
   "metadata": {
    "collapsed": true
   },
   "outputs": [
    {
     "data": {
      "text/html": [
       "<table class=\"simpletable\">\n",
       "<caption>OLS Regression Results</caption>\n",
       "<tr>\n",
       "  <th>Dep. Variable:</th>        <td>MPCE_MRP</td>     <th>  R-squared:         </th>  <td>   0.037</td>  \n",
       "</tr>\n",
       "<tr>\n",
       "  <th>Model:</th>                   <td>OLS</td>       <th>  Adj. R-squared:    </th>  <td>   0.037</td>  \n",
       "</tr>\n",
       "<tr>\n",
       "  <th>Method:</th>             <td>Least Squares</td>  <th>  F-statistic:       </th>  <td>   1292.</td>  \n",
       "</tr>\n",
       "<tr>\n",
       "  <th>Date:</th>             <td>Wed, 26 Jun 2024</td> <th>  Prob (F-statistic):</th>   <td>  0.00</td>   \n",
       "</tr>\n",
       "<tr>\n",
       "  <th>Time:</th>                 <td>17:29:38</td>     <th>  Log-Likelihood:    </th> <td>-9.2042e+05</td>\n",
       "</tr>\n",
       "<tr>\n",
       "  <th>No. Observations:</th>      <td>101662</td>      <th>  AIC:               </th>  <td>1.841e+06</td> \n",
       "</tr>\n",
       "<tr>\n",
       "  <th>Df Residuals:</th>          <td>101658</td>      <th>  BIC:               </th>  <td>1.841e+06</td> \n",
       "</tr>\n",
       "<tr>\n",
       "  <th>Df Model:</th>              <td>     3</td>      <th>                     </th>      <td> </td>     \n",
       "</tr>\n",
       "<tr>\n",
       "  <th>Covariance Type:</th>      <td>nonrobust</td>    <th>                     </th>      <td> </td>     \n",
       "</tr>\n",
       "</table>\n",
       "<table class=\"simpletable\">\n",
       "<tr>\n",
       "          <td></td>             <th>coef</th>     <th>std err</th>      <th>t</th>      <th>P>|t|</th>  <th>[0.025</th>    <th>0.975]</th>  \n",
       "</tr>\n",
       "<tr>\n",
       "  <th>Intercept</th>         <td> 2644.5525</td> <td>   11.490</td> <td>  230.164</td> <td> 0.000</td> <td> 2622.033</td> <td> 2667.072</td>\n",
       "</tr>\n",
       "<tr>\n",
       "  <th>C(Soc_cat)[T.OBC]</th> <td> -712.3130</td> <td>   15.468</td> <td>  -46.051</td> <td> 0.000</td> <td> -742.630</td> <td> -681.996</td>\n",
       "</tr>\n",
       "<tr>\n",
       "  <th>C(Soc_cat)[T.SC]</th>  <td> -956.4531</td> <td>   21.120</td> <td>  -45.286</td> <td> 0.000</td> <td> -997.849</td> <td> -915.057</td>\n",
       "</tr>\n",
       "<tr>\n",
       "  <th>C(Soc_cat)[T.ST]</th>  <td>-1022.7260</td> <td>   20.117</td> <td>  -50.839</td> <td> 0.000</td> <td>-1062.155</td> <td> -983.297</td>\n",
       "</tr>\n",
       "</table>\n",
       "<table class=\"simpletable\">\n",
       "<tr>\n",
       "  <th>Omnibus:</th>       <td>157490.983</td> <th>  Durbin-Watson:     </th>   <td>   1.436</td>   \n",
       "</tr>\n",
       "<tr>\n",
       "  <th>Prob(Omnibus):</th>   <td> 0.000</td>   <th>  Jarque-Bera (JB):  </th> <td>196349740.381</td>\n",
       "</tr>\n",
       "<tr>\n",
       "  <th>Skew:</th>            <td> 9.530</td>   <th>  Prob(JB):          </th>   <td>    0.00</td>   \n",
       "</tr>\n",
       "<tr>\n",
       "  <th>Kurtosis:</th>        <td>217.453</td>  <th>  Cond. No.          </th>   <td>    4.61</td>   \n",
       "</tr>\n",
       "</table><br/><br/>Notes:<br/>[1] Standard Errors assume that the covariance matrix of the errors is correctly specified."
      ],
      "text/plain": [
       "<class 'statsmodels.iolib.summary.Summary'>\n",
       "\"\"\"\n",
       "                            OLS Regression Results                            \n",
       "==============================================================================\n",
       "Dep. Variable:               MPCE_MRP   R-squared:                       0.037\n",
       "Model:                            OLS   Adj. R-squared:                  0.037\n",
       "Method:                 Least Squares   F-statistic:                     1292.\n",
       "Date:                Wed, 26 Jun 2024   Prob (F-statistic):               0.00\n",
       "Time:                        17:29:38   Log-Likelihood:            -9.2042e+05\n",
       "No. Observations:              101662   AIC:                         1.841e+06\n",
       "Df Residuals:                  101658   BIC:                         1.841e+06\n",
       "Df Model:                           3                                         \n",
       "Covariance Type:            nonrobust                                         \n",
       "=====================================================================================\n",
       "                        coef    std err          t      P>|t|      [0.025      0.975]\n",
       "-------------------------------------------------------------------------------------\n",
       "Intercept          2644.5525     11.490    230.164      0.000    2622.033    2667.072\n",
       "C(Soc_cat)[T.OBC]  -712.3130     15.468    -46.051      0.000    -742.630    -681.996\n",
       "C(Soc_cat)[T.SC]   -956.4531     21.120    -45.286      0.000    -997.849    -915.057\n",
       "C(Soc_cat)[T.ST]  -1022.7260     20.117    -50.839      0.000   -1062.155    -983.297\n",
       "==============================================================================\n",
       "Omnibus:                   157490.983   Durbin-Watson:                   1.436\n",
       "Prob(Omnibus):                  0.000   Jarque-Bera (JB):        196349740.381\n",
       "Skew:                           9.530   Prob(JB):                         0.00\n",
       "Kurtosis:                     217.453   Cond. No.                         4.61\n",
       "==============================================================================\n",
       "\n",
       "Notes:\n",
       "[1] Standard Errors assume that the covariance matrix of the errors is correctly specified.\n",
       "\"\"\""
      ]
     },
     "execution_count": 50,
     "metadata": {},
     "output_type": "execute_result"
    }
   ],
   "source": [
    "model.summary()"
   ]
  },
  {
   "cell_type": "code",
   "execution_count": 51,
   "metadata": {},
   "outputs": [],
   "source": [
    "aov_table = sm.stats.anova_lm(model)"
   ]
  },
  {
   "cell_type": "code",
   "execution_count": 52,
   "metadata": {
    "collapsed": true
   },
   "outputs": [
    {
     "data": {
      "text/html": [
       "<div>\n",
       "<style scoped>\n",
       "    .dataframe tbody tr th:only-of-type {\n",
       "        vertical-align: middle;\n",
       "    }\n",
       "\n",
       "    .dataframe tbody tr th {\n",
       "        vertical-align: top;\n",
       "    }\n",
       "\n",
       "    .dataframe thead th {\n",
       "        text-align: right;\n",
       "    }\n",
       "</style>\n",
       "<table border=\"1\" class=\"dataframe\">\n",
       "  <thead>\n",
       "    <tr style=\"text-align: right;\">\n",
       "      <th></th>\n",
       "      <th>df</th>\n",
       "      <th>sum_sq</th>\n",
       "      <th>mean_sq</th>\n",
       "      <th>F</th>\n",
       "      <th>PR(&gt;F)</th>\n",
       "    </tr>\n",
       "  </thead>\n",
       "  <tbody>\n",
       "    <tr>\n",
       "      <th>C(Soc_cat)</th>\n",
       "      <td>3.0</td>\n",
       "      <td>1.659320e+10</td>\n",
       "      <td>5.531067e+09</td>\n",
       "      <td>1292.232223</td>\n",
       "      <td>0.0</td>\n",
       "    </tr>\n",
       "    <tr>\n",
       "      <th>Residual</th>\n",
       "      <td>101658.0</td>\n",
       "      <td>4.351208e+11</td>\n",
       "      <td>4.280242e+06</td>\n",
       "      <td>NaN</td>\n",
       "      <td>NaN</td>\n",
       "    </tr>\n",
       "  </tbody>\n",
       "</table>\n",
       "</div>"
      ],
      "text/plain": [
       "                  df        sum_sq       mean_sq            F  PR(>F)\n",
       "C(Soc_cat)       3.0  1.659320e+10  5.531067e+09  1292.232223     0.0\n",
       "Residual    101658.0  4.351208e+11  4.280242e+06          NaN     NaN"
      ]
     },
     "execution_count": 52,
     "metadata": {},
     "output_type": "execute_result"
    }
   ],
   "source": [
    "aov_table"
   ]
  },
  {
   "cell_type": "markdown",
   "metadata": {},
   "source": [
    "### Multi comparison"
   ]
  },
  {
   "cell_type": "code",
   "execution_count": 54,
   "metadata": {},
   "outputs": [],
   "source": [
    "from statsmodels.stats.multicomp import MultiComparison\n",
    "from statsmodels.stats.multicomp import pairwise_tukeyhsd"
   ]
  },
  {
   "cell_type": "code",
   "execution_count": 55,
   "metadata": {},
   "outputs": [],
   "source": [
    "mc = MultiComparison(nss['MPCE_MRP'], nss['Soc_cat'])"
   ]
  },
  {
   "cell_type": "code",
   "execution_count": 56,
   "metadata": {},
   "outputs": [],
   "source": [
    "mc_results = mc.tukeyhsd()"
   ]
  },
  {
   "cell_type": "code",
   "execution_count": 57,
   "metadata": {
    "collapsed": true
   },
   "outputs": [
    {
     "name": "stdout",
     "output_type": "stream",
     "text": [
      "   Multiple Comparison of Means - Tukey HSD, FWER=0.05    \n",
      "==========================================================\n",
      "group1 group2  meandiff p-adj    lower      upper   reject\n",
      "----------------------------------------------------------\n",
      "   GEN    OBC  -712.313  0.001  -752.0508 -672.5753   True\n",
      "   GEN     SC -956.4531  0.001 -1010.7126 -902.1936   True\n",
      "   GEN     ST -1022.726  0.001 -1074.4078 -971.0441   True\n",
      "   OBC     SC   -244.14  0.001  -296.8709 -191.4092   True\n",
      "   OBC     ST -310.4129  0.001  -360.4875 -260.3383   True\n",
      "    SC     ST  -66.2729 0.0316  -128.5021   -4.0437   True\n",
      "----------------------------------------------------------\n"
     ]
    }
   ],
   "source": [
    "x = print(mc_results)"
   ]
  },
  {
   "cell_type": "markdown",
   "metadata": {},
   "source": [
    "#### Testing for overall significance of ANOVA"
   ]
  },
  {
   "cell_type": "code",
   "execution_count": 58,
   "metadata": {
    "collapsed": true
   },
   "outputs": [
    {
     "data": {
      "text/html": [
       "<div>\n",
       "<style scoped>\n",
       "    .dataframe tbody tr th:only-of-type {\n",
       "        vertical-align: middle;\n",
       "    }\n",
       "\n",
       "    .dataframe tbody tr th {\n",
       "        vertical-align: top;\n",
       "    }\n",
       "\n",
       "    .dataframe thead th {\n",
       "        text-align: right;\n",
       "    }\n",
       "</style>\n",
       "<table border=\"1\" class=\"dataframe\">\n",
       "  <thead>\n",
       "    <tr style=\"text-align: right;\">\n",
       "      <th></th>\n",
       "      <th>df</th>\n",
       "      <th>sum_sq</th>\n",
       "      <th>mean_sq</th>\n",
       "      <th>F</th>\n",
       "      <th>PR(&gt;F)</th>\n",
       "    </tr>\n",
       "  </thead>\n",
       "  <tbody>\n",
       "    <tr>\n",
       "      <th>C(Soc_cat)</th>\n",
       "      <td>3.0</td>\n",
       "      <td>1.659320e+10</td>\n",
       "      <td>5.531067e+09</td>\n",
       "      <td>1292.232223</td>\n",
       "      <td>0.0</td>\n",
       "    </tr>\n",
       "    <tr>\n",
       "      <th>Residual</th>\n",
       "      <td>101658.0</td>\n",
       "      <td>4.351208e+11</td>\n",
       "      <td>4.280242e+06</td>\n",
       "      <td>NaN</td>\n",
       "      <td>NaN</td>\n",
       "    </tr>\n",
       "  </tbody>\n",
       "</table>\n",
       "</div>"
      ],
      "text/plain": [
       "                  df        sum_sq       mean_sq            F  PR(>F)\n",
       "C(Soc_cat)       3.0  1.659320e+10  5.531067e+09  1292.232223     0.0\n",
       "Residual    101658.0  4.351208e+11  4.280242e+06          NaN     NaN"
      ]
     },
     "execution_count": 58,
     "metadata": {},
     "output_type": "execute_result"
    }
   ],
   "source": [
    "model = ols('MPCE_MRP ~ C(Soc_cat)', data=nss).fit()\n",
    "aov_table = sm.stats.anova_lm(model)\n",
    "aov_table"
   ]
  },
  {
   "cell_type": "markdown",
   "metadata": {},
   "source": [
    "### Multi Comarison"
   ]
  },
  {
   "cell_type": "code",
   "execution_count": 59,
   "metadata": {
    "collapsed": true
   },
   "outputs": [
    {
     "name": "stdout",
     "output_type": "stream",
     "text": [
      "   Multiple Comparison of Means - Tukey HSD, FWER=0.05    \n",
      "==========================================================\n",
      "group1 group2  meandiff p-adj    lower      upper   reject\n",
      "----------------------------------------------------------\n",
      "   GEN    OBC  -712.313  0.001  -752.0508 -672.5753   True\n",
      "   GEN     SC -956.4531  0.001 -1010.7126 -902.1936   True\n",
      "   GEN     ST -1022.726  0.001 -1074.4078 -971.0441   True\n",
      "   OBC     SC   -244.14  0.001  -296.8709 -191.4092   True\n",
      "   OBC     ST -310.4129  0.001  -360.4875 -260.3383   True\n",
      "    SC     ST  -66.2729 0.0316  -128.5021   -4.0437   True\n",
      "----------------------------------------------------------\n"
     ]
    }
   ],
   "source": [
    "mc = MultiComparison(nss['MPCE_MRP'], nss['Soc_cat'])\n",
    "mc_results = mc.tukeyhsd()\n",
    "x = print(mc_results)"
   ]
  },
  {
   "cell_type": "code",
   "execution_count": 62,
   "metadata": {},
   "outputs": [
    {
     "data": {
      "text/plain": [
       "Soc_cat\n",
       "GEN    2644.552522\n",
       "OBC    1932.239482\n",
       "SC     1688.099440\n",
       "ST     1621.826566\n",
       "Name: MPCE_MRP, dtype: float64"
      ]
     },
     "execution_count": 62,
     "metadata": {},
     "output_type": "execute_result"
    }
   ],
   "source": [
    "nss.groupby('Soc_cat')['MPCE_MRP'].mean()"
   ]
  },
  {
   "cell_type": "markdown",
   "metadata": {},
   "source": [
    "#### For cereal Consumption"
   ]
  },
  {
   "cell_type": "code",
   "execution_count": 61,
   "metadata": {},
   "outputs": [
    {
     "data": {
      "text/plain": [
       "Soc_cat\n",
       "GEN    10.681100\n",
       "OBC    10.883845\n",
       "SC     12.067328\n",
       "ST     11.038932\n",
       "Name: cerealstt_q, dtype: float64"
      ]
     },
     "execution_count": 61,
     "metadata": {},
     "output_type": "execute_result"
    }
   ],
   "source": [
    "nss.groupby('Soc_cat')['cerealstt_q'].mean()"
   ]
  },
  {
   "cell_type": "code",
   "execution_count": 63,
   "metadata": {},
   "outputs": [
    {
     "data": {
      "text/html": [
       "<div>\n",
       "<style scoped>\n",
       "    .dataframe tbody tr th:only-of-type {\n",
       "        vertical-align: middle;\n",
       "    }\n",
       "\n",
       "    .dataframe tbody tr th {\n",
       "        vertical-align: top;\n",
       "    }\n",
       "\n",
       "    .dataframe thead th {\n",
       "        text-align: right;\n",
       "    }\n",
       "</style>\n",
       "<table border=\"1\" class=\"dataframe\">\n",
       "  <thead>\n",
       "    <tr style=\"text-align: right;\">\n",
       "      <th></th>\n",
       "      <th>df</th>\n",
       "      <th>sum_sq</th>\n",
       "      <th>mean_sq</th>\n",
       "      <th>F</th>\n",
       "      <th>PR(&gt;F)</th>\n",
       "    </tr>\n",
       "  </thead>\n",
       "  <tbody>\n",
       "    <tr>\n",
       "      <th>C(Soc_cat)</th>\n",
       "      <td>3.0</td>\n",
       "      <td>1.938522e+04</td>\n",
       "      <td>6461.739123</td>\n",
       "      <td>425.559104</td>\n",
       "      <td>8.953728e-275</td>\n",
       "    </tr>\n",
       "    <tr>\n",
       "      <th>Residual</th>\n",
       "      <td>101658.0</td>\n",
       "      <td>1.543587e+06</td>\n",
       "      <td>15.184117</td>\n",
       "      <td>NaN</td>\n",
       "      <td>NaN</td>\n",
       "    </tr>\n",
       "  </tbody>\n",
       "</table>\n",
       "</div>"
      ],
      "text/plain": [
       "                  df        sum_sq      mean_sq           F         PR(>F)\n",
       "C(Soc_cat)       3.0  1.938522e+04  6461.739123  425.559104  8.953728e-275\n",
       "Residual    101658.0  1.543587e+06    15.184117         NaN            NaN"
      ]
     },
     "execution_count": 63,
     "metadata": {},
     "output_type": "execute_result"
    }
   ],
   "source": [
    "model1 = ols('cerealstt_q ~ C(Soc_cat)', data=nss).fit()\n",
    "aov_table1 = sm.stats.anova_lm(model1)\n",
    "aov_table1"
   ]
  },
  {
   "cell_type": "code",
   "execution_count": 64,
   "metadata": {
    "collapsed": true
   },
   "outputs": [
    {
     "data": {
      "text/html": [
       "<table class=\"simpletable\">\n",
       "<caption>OLS Regression Results</caption>\n",
       "<tr>\n",
       "  <th>Dep. Variable:</th>       <td>cerealstt_q</td>   <th>  R-squared:         </th>  <td>   0.012</td>  \n",
       "</tr>\n",
       "<tr>\n",
       "  <th>Model:</th>                   <td>OLS</td>       <th>  Adj. R-squared:    </th>  <td>   0.012</td>  \n",
       "</tr>\n",
       "<tr>\n",
       "  <th>Method:</th>             <td>Least Squares</td>  <th>  F-statistic:       </th>  <td>   425.6</td>  \n",
       "</tr>\n",
       "<tr>\n",
       "  <th>Date:</th>             <td>Wed, 26 Jun 2024</td> <th>  Prob (F-statistic):</th>  <td>8.95e-275</td> \n",
       "</tr>\n",
       "<tr>\n",
       "  <th>Time:</th>                 <td>17:46:45</td>     <th>  Log-Likelihood:    </th> <td>-2.8252e+05</td>\n",
       "</tr>\n",
       "<tr>\n",
       "  <th>No. Observations:</th>      <td>101662</td>      <th>  AIC:               </th>  <td>5.651e+05</td> \n",
       "</tr>\n",
       "<tr>\n",
       "  <th>Df Residuals:</th>          <td>101658</td>      <th>  BIC:               </th>  <td>5.651e+05</td> \n",
       "</tr>\n",
       "<tr>\n",
       "  <th>Df Model:</th>              <td>     3</td>      <th>                     </th>      <td> </td>     \n",
       "</tr>\n",
       "<tr>\n",
       "  <th>Covariance Type:</th>      <td>nonrobust</td>    <th>                     </th>      <td> </td>     \n",
       "</tr>\n",
       "</table>\n",
       "<table class=\"simpletable\">\n",
       "<tr>\n",
       "          <td></td>             <th>coef</th>     <th>std err</th>      <th>t</th>      <th>P>|t|</th>  <th>[0.025</th>    <th>0.975]</th>  \n",
       "</tr>\n",
       "<tr>\n",
       "  <th>Intercept</th>         <td>   10.6811</td> <td>    0.022</td> <td>  493.561</td> <td> 0.000</td> <td>   10.639</td> <td>   10.724</td>\n",
       "</tr>\n",
       "<tr>\n",
       "  <th>C(Soc_cat)[T.OBC]</th> <td>    0.2027</td> <td>    0.029</td> <td>    6.959</td> <td> 0.000</td> <td>    0.146</td> <td>    0.260</td>\n",
       "</tr>\n",
       "<tr>\n",
       "  <th>C(Soc_cat)[T.SC]</th>  <td>    1.3862</td> <td>    0.040</td> <td>   34.848</td> <td> 0.000</td> <td>    1.308</td> <td>    1.464</td>\n",
       "</tr>\n",
       "<tr>\n",
       "  <th>C(Soc_cat)[T.ST]</th>  <td>    0.3578</td> <td>    0.038</td> <td>    9.444</td> <td> 0.000</td> <td>    0.284</td> <td>    0.432</td>\n",
       "</tr>\n",
       "</table>\n",
       "<table class=\"simpletable\">\n",
       "<tr>\n",
       "  <th>Omnibus:</th>       <td>86453.645</td> <th>  Durbin-Watson:     </th>   <td>   1.245</td>  \n",
       "</tr>\n",
       "<tr>\n",
       "  <th>Prob(Omnibus):</th>  <td> 0.000</td>   <th>  Jarque-Bera (JB):  </th> <td>32742274.162</td>\n",
       "</tr>\n",
       "<tr>\n",
       "  <th>Skew:</th>           <td> 3.151</td>   <th>  Prob(JB):          </th>   <td>    0.00</td>  \n",
       "</tr>\n",
       "<tr>\n",
       "  <th>Kurtosis:</th>       <td>90.692</td>   <th>  Cond. No.          </th>   <td>    4.61</td>  \n",
       "</tr>\n",
       "</table><br/><br/>Notes:<br/>[1] Standard Errors assume that the covariance matrix of the errors is correctly specified."
      ],
      "text/plain": [
       "<class 'statsmodels.iolib.summary.Summary'>\n",
       "\"\"\"\n",
       "                            OLS Regression Results                            \n",
       "==============================================================================\n",
       "Dep. Variable:            cerealstt_q   R-squared:                       0.012\n",
       "Model:                            OLS   Adj. R-squared:                  0.012\n",
       "Method:                 Least Squares   F-statistic:                     425.6\n",
       "Date:                Wed, 26 Jun 2024   Prob (F-statistic):          8.95e-275\n",
       "Time:                        17:46:45   Log-Likelihood:            -2.8252e+05\n",
       "No. Observations:              101662   AIC:                         5.651e+05\n",
       "Df Residuals:                  101658   BIC:                         5.651e+05\n",
       "Df Model:                           3                                         \n",
       "Covariance Type:            nonrobust                                         \n",
       "=====================================================================================\n",
       "                        coef    std err          t      P>|t|      [0.025      0.975]\n",
       "-------------------------------------------------------------------------------------\n",
       "Intercept            10.6811      0.022    493.561      0.000      10.639      10.724\n",
       "C(Soc_cat)[T.OBC]     0.2027      0.029      6.959      0.000       0.146       0.260\n",
       "C(Soc_cat)[T.SC]      1.3862      0.040     34.848      0.000       1.308       1.464\n",
       "C(Soc_cat)[T.ST]      0.3578      0.038      9.444      0.000       0.284       0.432\n",
       "==============================================================================\n",
       "Omnibus:                    86453.645   Durbin-Watson:                   1.245\n",
       "Prob(Omnibus):                  0.000   Jarque-Bera (JB):         32742274.162\n",
       "Skew:                           3.151   Prob(JB):                         0.00\n",
       "Kurtosis:                      90.692   Cond. No.                         4.61\n",
       "==============================================================================\n",
       "\n",
       "Notes:\n",
       "[1] Standard Errors assume that the covariance matrix of the errors is correctly specified.\n",
       "\"\"\""
      ]
     },
     "execution_count": 64,
     "metadata": {},
     "output_type": "execute_result"
    }
   ],
   "source": [
    "model1.summary()"
   ]
  },
  {
   "cell_type": "code",
   "execution_count": 65,
   "metadata": {},
   "outputs": [
    {
     "name": "stdout",
     "output_type": "stream",
     "text": [
      "Multiple Comparison of Means - Tukey HSD, FWER=0.05\n",
      "===================================================\n",
      "group1 group2 meandiff p-adj  lower   upper  reject\n",
      "---------------------------------------------------\n",
      "   GEN    OBC   0.2027 0.001  0.1279  0.2776   True\n",
      "   GEN     SC   1.3862 0.001   1.284  1.4884   True\n",
      "   GEN     ST   0.3578 0.001  0.2605  0.4552   True\n",
      "   OBC     SC   1.1835 0.001  1.0842  1.2828   True\n",
      "   OBC     ST   0.1551 0.001  0.0608  0.2494   True\n",
      "    SC     ST  -1.0284 0.001 -1.1456 -0.9112   True\n",
      "---------------------------------------------------\n"
     ]
    }
   ],
   "source": [
    "mc1 = MultiComparison(nss['cerealstt_q'], nss['Soc_cat'])\n",
    "mc_results1 = mc1.tukeyhsd()\n",
    "x = print(mc_results1)"
   ]
  },
  {
   "cell_type": "markdown",
   "metadata": {},
   "source": [
    "### Chi-Sqaure test"
   ]
  },
  {
   "cell_type": "markdown",
   "metadata": {},
   "source": [
    "#### Whether owning land is associated with belonging to certain sector?"
   ]
  },
  {
   "cell_type": "code",
   "execution_count": 66,
   "metadata": {},
   "outputs": [
    {
     "data": {
      "text/plain": [
       "array([ 1.,  2., nan])"
      ]
     },
     "execution_count": 66,
     "metadata": {},
     "output_type": "execute_result"
    }
   ],
   "source": [
    "nss['Whether_owns_any_land'].unique()"
   ]
  },
  {
   "cell_type": "code",
   "execution_count": 68,
   "metadata": {},
   "outputs": [
    {
     "data": {
      "text/plain": [
       "1.0    87825\n",
       "2.0    13827\n",
       "Name: Whether_owns_any_land, dtype: int64"
      ]
     },
     "execution_count": 68,
     "metadata": {},
     "output_type": "execute_result"
    }
   ],
   "source": [
    "nss['Whether_owns_any_land'].value_counts()"
   ]
  },
  {
   "cell_type": "code",
   "execution_count": 69,
   "metadata": {},
   "outputs": [
    {
     "data": {
      "text/html": [
       "<div>\n",
       "<style scoped>\n",
       "    .dataframe tbody tr th:only-of-type {\n",
       "        vertical-align: middle;\n",
       "    }\n",
       "\n",
       "    .dataframe tbody tr th {\n",
       "        vertical-align: top;\n",
       "    }\n",
       "\n",
       "    .dataframe thead th {\n",
       "        text-align: right;\n",
       "    }\n",
       "</style>\n",
       "<table border=\"1\" class=\"dataframe\">\n",
       "  <thead>\n",
       "    <tr style=\"text-align: right;\">\n",
       "      <th>Whether_owns_any_land</th>\n",
       "      <th>1.0</th>\n",
       "      <th>2.0</th>\n",
       "    </tr>\n",
       "    <tr>\n",
       "      <th>Sector</th>\n",
       "      <th></th>\n",
       "      <th></th>\n",
       "    </tr>\n",
       "  </thead>\n",
       "  <tbody>\n",
       "    <tr>\n",
       "      <th>1</th>\n",
       "      <td>56877</td>\n",
       "      <td>2815</td>\n",
       "    </tr>\n",
       "    <tr>\n",
       "      <th>2</th>\n",
       "      <td>30948</td>\n",
       "      <td>11012</td>\n",
       "    </tr>\n",
       "  </tbody>\n",
       "</table>\n",
       "</div>"
      ],
      "text/plain": [
       "Whether_owns_any_land    1.0    2.0\n",
       "Sector                             \n",
       "1                      56877   2815\n",
       "2                      30948  11012"
      ]
     },
     "execution_count": 69,
     "metadata": {},
     "output_type": "execute_result"
    }
   ],
   "source": [
    "cont_table = pd.crosstab(nss['Sector'], nss['Whether_owns_any_land'])\n",
    "cont_table"
   ]
  },
  {
   "cell_type": "code",
   "execution_count": 71,
   "metadata": {},
   "outputs": [
    {
     "data": {
      "text/plain": [
       "(9715.24263837462, 0.0, 1, array([[51572.52095384,  8119.47904616],\n",
       "        [36252.47904616,  5707.52095384]]))"
      ]
     },
     "execution_count": 71,
     "metadata": {},
     "output_type": "execute_result"
    }
   ],
   "source": [
    "chi_result = stats.chi2_contingency(cont_table)\n",
    "chi_result"
   ]
  }
 ],
 "metadata": {
  "kernelspec": {
   "display_name": "Python 3",
   "language": "python",
   "name": "python3"
  },
  "language_info": {
   "codemirror_mode": {
    "name": "ipython",
    "version": 3
   },
   "file_extension": ".py",
   "mimetype": "text/x-python",
   "name": "python",
   "nbconvert_exporter": "python",
   "pygments_lexer": "ipython3",
   "version": "3.6.5"
  }
 },
 "nbformat": 4,
 "nbformat_minor": 2
}
