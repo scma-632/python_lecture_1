{
 "cells": [
  {
   "cell_type": "code",
   "execution_count": 1,
   "metadata": {},
   "outputs": [],
   "source": [
    "import os \n",
    "import numpy as np\n",
    "import pandas as pd\n",
    "import matplotlib.pyplot as plt\n",
    "import seaborn as sns"
   ]
  },
  {
   "cell_type": "markdown",
   "metadata": {},
   "source": [
    "### Load the Dataset"
   ]
  },
  {
   "cell_type": "code",
   "execution_count": 2,
   "metadata": {},
   "outputs": [
    {
     "name": "stderr",
     "output_type": "stream",
     "text": [
      "C:\\ProgramData\\Anaconda3\\lib\\site-packages\\IPython\\core\\interactiveshell.py:3051: DtypeWarning: Columns (1) have mixed types. Specify dtype option on import or set low_memory=False.\n",
      "  interactivity=interactivity, compiler=compiler, result=result)\n"
     ]
    }
   ],
   "source": [
    "os.chdir('E:\\DataScience\\datasets\\SCMA2023')\n",
    "nss = pd.read_csv('NSSO68.csv')"
   ]
  },
  {
   "cell_type": "code",
   "execution_count": 3,
   "metadata": {
    "collapsed": true
   },
   "outputs": [
    {
     "data": {
      "text/plain": [
       "Index(['Unnamed: 0', 'grp', 'Round_Centre', 'FSU_number', 'Round',\n",
       "       'Schedule_Number', 'Sample', 'Sector', 'state', 'State_Region',\n",
       "       ...\n",
       "       'pickle_v', 'sauce_jam_v', 'Othrprocessed_v', 'Beveragestotal_v',\n",
       "       'foodtotal_v', 'foodtotal_q', 'state_1', 'Region', 'fruits_df_tt_v',\n",
       "       'fv_tot'],\n",
       "      dtype='object', length=384)"
      ]
     },
     "execution_count": 3,
     "metadata": {},
     "output_type": "execute_result"
    }
   ],
   "source": [
    "nss.columns"
   ]
  },
  {
   "cell_type": "code",
   "execution_count": 5,
   "metadata": {
    "collapsed": true
   },
   "outputs": [
    {
     "data": {
      "text/html": [
       "<div>\n",
       "<style scoped>\n",
       "    .dataframe tbody tr th:only-of-type {\n",
       "        vertical-align: middle;\n",
       "    }\n",
       "\n",
       "    .dataframe tbody tr th {\n",
       "        vertical-align: top;\n",
       "    }\n",
       "\n",
       "    .dataframe thead th {\n",
       "        text-align: right;\n",
       "    }\n",
       "</style>\n",
       "<table border=\"1\" class=\"dataframe\">\n",
       "  <thead>\n",
       "    <tr style=\"text-align: right;\">\n",
       "      <th></th>\n",
       "      <th>Unnamed: 0</th>\n",
       "      <th>grp</th>\n",
       "      <th>Round_Centre</th>\n",
       "      <th>FSU_number</th>\n",
       "      <th>Round</th>\n",
       "      <th>Schedule_Number</th>\n",
       "      <th>Sample</th>\n",
       "      <th>Sector</th>\n",
       "      <th>state</th>\n",
       "      <th>State_Region</th>\n",
       "      <th>...</th>\n",
       "      <th>pickle_v</th>\n",
       "      <th>sauce_jam_v</th>\n",
       "      <th>Othrprocessed_v</th>\n",
       "      <th>Beveragestotal_v</th>\n",
       "      <th>foodtotal_v</th>\n",
       "      <th>foodtotal_q</th>\n",
       "      <th>state_1</th>\n",
       "      <th>Region</th>\n",
       "      <th>fruits_df_tt_v</th>\n",
       "      <th>fv_tot</th>\n",
       "    </tr>\n",
       "  </thead>\n",
       "  <tbody>\n",
       "    <tr>\n",
       "      <th>0</th>\n",
       "      <td>1</td>\n",
       "      <td>4.1e+31</td>\n",
       "      <td>1</td>\n",
       "      <td>41000</td>\n",
       "      <td>68</td>\n",
       "      <td>10</td>\n",
       "      <td>1</td>\n",
       "      <td>2</td>\n",
       "      <td>24</td>\n",
       "      <td>242</td>\n",
       "      <td>...</td>\n",
       "      <td>0.0</td>\n",
       "      <td>0.0</td>\n",
       "      <td>0.0</td>\n",
       "      <td>0.000000</td>\n",
       "      <td>1141.492400</td>\n",
       "      <td>30.942394</td>\n",
       "      <td>GUJ</td>\n",
       "      <td>2</td>\n",
       "      <td>12.000000</td>\n",
       "      <td>154.18</td>\n",
       "    </tr>\n",
       "    <tr>\n",
       "      <th>1</th>\n",
       "      <td>2</td>\n",
       "      <td>4.1e+31</td>\n",
       "      <td>1</td>\n",
       "      <td>41000</td>\n",
       "      <td>68</td>\n",
       "      <td>10</td>\n",
       "      <td>1</td>\n",
       "      <td>2</td>\n",
       "      <td>24</td>\n",
       "      <td>242</td>\n",
       "      <td>...</td>\n",
       "      <td>0.0</td>\n",
       "      <td>0.0</td>\n",
       "      <td>0.0</td>\n",
       "      <td>17.500000</td>\n",
       "      <td>1244.553500</td>\n",
       "      <td>29.286153</td>\n",
       "      <td>GUJ</td>\n",
       "      <td>2</td>\n",
       "      <td>333.000000</td>\n",
       "      <td>484.95</td>\n",
       "    </tr>\n",
       "    <tr>\n",
       "      <th>2</th>\n",
       "      <td>3</td>\n",
       "      <td>4.1e+31</td>\n",
       "      <td>1</td>\n",
       "      <td>41000</td>\n",
       "      <td>68</td>\n",
       "      <td>10</td>\n",
       "      <td>1</td>\n",
       "      <td>2</td>\n",
       "      <td>24</td>\n",
       "      <td>242</td>\n",
       "      <td>...</td>\n",
       "      <td>0.0</td>\n",
       "      <td>0.0</td>\n",
       "      <td>0.0</td>\n",
       "      <td>0.000000</td>\n",
       "      <td>1050.315400</td>\n",
       "      <td>31.527046</td>\n",
       "      <td>GUJ</td>\n",
       "      <td>2</td>\n",
       "      <td>35.000000</td>\n",
       "      <td>214.84</td>\n",
       "    </tr>\n",
       "    <tr>\n",
       "      <th>3</th>\n",
       "      <td>4</td>\n",
       "      <td>4.1e+31</td>\n",
       "      <td>1</td>\n",
       "      <td>41000</td>\n",
       "      <td>68</td>\n",
       "      <td>10</td>\n",
       "      <td>1</td>\n",
       "      <td>2</td>\n",
       "      <td>24</td>\n",
       "      <td>242</td>\n",
       "      <td>...</td>\n",
       "      <td>0.0</td>\n",
       "      <td>0.0</td>\n",
       "      <td>0.0</td>\n",
       "      <td>33.333333</td>\n",
       "      <td>1142.591667</td>\n",
       "      <td>27.834607</td>\n",
       "      <td>GUJ</td>\n",
       "      <td>2</td>\n",
       "      <td>168.333333</td>\n",
       "      <td>302.30</td>\n",
       "    </tr>\n",
       "    <tr>\n",
       "      <th>4</th>\n",
       "      <td>5</td>\n",
       "      <td>4.1e+31</td>\n",
       "      <td>1</td>\n",
       "      <td>41000</td>\n",
       "      <td>68</td>\n",
       "      <td>10</td>\n",
       "      <td>1</td>\n",
       "      <td>2</td>\n",
       "      <td>24</td>\n",
       "      <td>242</td>\n",
       "      <td>...</td>\n",
       "      <td>0.0</td>\n",
       "      <td>0.0</td>\n",
       "      <td>0.0</td>\n",
       "      <td>75.000000</td>\n",
       "      <td>945.249500</td>\n",
       "      <td>27.600713</td>\n",
       "      <td>GUJ</td>\n",
       "      <td>2</td>\n",
       "      <td>15.000000</td>\n",
       "      <td>148.00</td>\n",
       "    </tr>\n",
       "  </tbody>\n",
       "</table>\n",
       "<p>5 rows × 384 columns</p>\n",
       "</div>"
      ],
      "text/plain": [
       "   Unnamed: 0      grp  Round_Centre  FSU_number  Round  Schedule_Number  \\\n",
       "0           1  4.1e+31             1       41000     68               10   \n",
       "1           2  4.1e+31             1       41000     68               10   \n",
       "2           3  4.1e+31             1       41000     68               10   \n",
       "3           4  4.1e+31             1       41000     68               10   \n",
       "4           5  4.1e+31             1       41000     68               10   \n",
       "\n",
       "   Sample  Sector  state  State_Region  ...  pickle_v  sauce_jam_v  \\\n",
       "0       1       2     24           242  ...       0.0          0.0   \n",
       "1       1       2     24           242  ...       0.0          0.0   \n",
       "2       1       2     24           242  ...       0.0          0.0   \n",
       "3       1       2     24           242  ...       0.0          0.0   \n",
       "4       1       2     24           242  ...       0.0          0.0   \n",
       "\n",
       "   Othrprocessed_v  Beveragestotal_v  foodtotal_v  foodtotal_q  state_1  \\\n",
       "0              0.0          0.000000  1141.492400    30.942394      GUJ   \n",
       "1              0.0         17.500000  1244.553500    29.286153      GUJ   \n",
       "2              0.0          0.000000  1050.315400    31.527046      GUJ   \n",
       "3              0.0         33.333333  1142.591667    27.834607      GUJ   \n",
       "4              0.0         75.000000   945.249500    27.600713      GUJ   \n",
       "\n",
       "   Region  fruits_df_tt_v  fv_tot  \n",
       "0       2       12.000000  154.18  \n",
       "1       2      333.000000  484.95  \n",
       "2       2       35.000000  214.84  \n",
       "3       2      168.333333  302.30  \n",
       "4       2       15.000000  148.00  \n",
       "\n",
       "[5 rows x 384 columns]"
      ]
     },
     "execution_count": 5,
     "metadata": {},
     "output_type": "execute_result"
    }
   ],
   "source": [
    "nss.head()"
   ]
  },
  {
   "cell_type": "code",
   "execution_count": 6,
   "metadata": {
    "collapsed": true
   },
   "outputs": [
    {
     "data": {
      "text/plain": [
       "['Unnamed: 0',\n",
       " 'grp',\n",
       " 'Round_Centre',\n",
       " 'FSU_number',\n",
       " 'Round',\n",
       " 'Schedule_Number',\n",
       " 'Sample',\n",
       " 'Sector',\n",
       " 'state',\n",
       " 'State_Region',\n",
       " 'District',\n",
       " 'Stratum_Number',\n",
       " 'Sub_Stratum',\n",
       " 'Schedule_type',\n",
       " 'Sub_Round',\n",
       " 'Sub_Sample',\n",
       " 'FOD_Sub_Region',\n",
       " 'Hamlet_Group_Sub_Block',\n",
       " 'Second',\n",
       " 'X_Stage_Stratum',\n",
       " 'HHS_No',\n",
       " 'Level',\n",
       " 'Filler',\n",
       " 'hhdsz',\n",
       " 'NIC_2008',\n",
       " 'NCO_2004',\n",
       " 'HH_type',\n",
       " 'Religion',\n",
       " 'Social_Group',\n",
       " 'Whether_owns_any_land',\n",
       " 'Type_of_land_owned',\n",
       " 'Land_Owned',\n",
       " 'Land_Leased_in',\n",
       " 'Otherwise_possessed',\n",
       " 'Land_Leased_out',\n",
       " 'Land_Total_possessed',\n",
       " 'During_July_June_Cultivated',\n",
       " 'During_July_June_Irrigated',\n",
       " 'NSS',\n",
       " 'NSC',\n",
       " 'MLT',\n",
       " 'land_tt',\n",
       " 'Cooking_code',\n",
       " 'Lighting_code',\n",
       " 'Dwelling_unit_code',\n",
       " 'Regular_salary_earner',\n",
       " 'Perform_Ceremony',\n",
       " 'Meals_seved_to_non_hhld_members',\n",
       " 'Possess_ration_card',\n",
       " 'Type_of_ration_card',\n",
       " 'MPCE_URP',\n",
       " 'MPCE_MRP',\n",
       " 'Person_Srl_No',\n",
       " 'Relation',\n",
       " 'Sex',\n",
       " 'Age',\n",
       " 'Marital_Status',\n",
       " 'Education',\n",
       " 'Days_Stayed_away',\n",
       " 'No_of_Meals_per_day',\n",
       " 'Meals_School',\n",
       " 'Meals_Employer',\n",
       " 'Meals_Others',\n",
       " 'Meals_Payment',\n",
       " 'Meals_At_Home',\n",
       " 'Item_Code',\n",
       " 'Source_Code',\n",
       " 'ricepds_q',\n",
       " 'riceos_q',\n",
       " 'ricetotal_q',\n",
       " 'chira_q',\n",
       " 'khoi_q',\n",
       " 'muri_q',\n",
       " 'ricepro_q',\n",
       " 'riceGT_q',\n",
       " 'Wheatpds_q',\n",
       " 'wheatos_q',\n",
       " 'wheattotal_q',\n",
       " 'maida_q',\n",
       " 'suji_q',\n",
       " 'sewai_q',\n",
       " 'bread_q',\n",
       " 'wheatp_q',\n",
       " 'wheatGT_q',\n",
       " 'jowarp_q',\n",
       " 'bajrap_q',\n",
       " 'maizep_q',\n",
       " 'barleyp_q',\n",
       " 'milletp_q',\n",
       " 'ragip_q',\n",
       " 'cerealot_q',\n",
       " 'cerealtot_q',\n",
       " 'cerealsub_q',\n",
       " 'cerealstt_q',\n",
       " 'arhar_q',\n",
       " 'gramdal_q',\n",
       " 'gramwholep_q',\n",
       " 'gramGT_q',\n",
       " 'moong_q',\n",
       " 'masur_q',\n",
       " 'urd_q',\n",
       " 'peasdal_q',\n",
       " 'khesari_q',\n",
       " 'otpulse_q',\n",
       " 'gramp_q',\n",
       " 'besan_q',\n",
       " 'pulsep_q',\n",
       " 'pulsestot_q',\n",
       " 'pulsestt_q',\n",
       " 'soyabean_q',\n",
       " 'milk_q',\n",
       " 'babyfood_q',\n",
       " 'milkcond_q',\n",
       " 'curd_q',\n",
       " 'ghee_q',\n",
       " 'butter_q',\n",
       " 'icecream_q',\n",
       " 'otmilkp_q',\n",
       " 'Milktotal_q',\n",
       " 'milkprott_q',\n",
       " 'vanas_q',\n",
       " 'musoil_q',\n",
       " 'gnoil_q',\n",
       " 'cocooil_q',\n",
       " 'edioilothr_q',\n",
       " 'edibletotal_q',\n",
       " 'ediblest_q',\n",
       " 'eggsno_q',\n",
       " 'fishprawn_q',\n",
       " 'goatmeat_q',\n",
       " 'beef_q',\n",
       " 'pork_q',\n",
       " 'chicken_q',\n",
       " 'othrbirds_q',\n",
       " 'nonvegtotal_q',\n",
       " 'emftt_q',\n",
       " 'potato_q',\n",
       " 'onion_q',\n",
       " 'tamato_q',\n",
       " 'brinjal_q',\n",
       " 'radish_q',\n",
       " 'carrot_q',\n",
       " 'palak_q',\n",
       " 'chillig_q',\n",
       " 'bhindi_q',\n",
       " 'parwal_q',\n",
       " 'cauli_q',\n",
       " 'cabbage_q',\n",
       " 'pumpkin_q',\n",
       " 'peas_q',\n",
       " 'fbeans_q',\n",
       " 'lemonno_q',\n",
       " 'otveg_q',\n",
       " 'vegtt_q',\n",
       " 'bananano_q',\n",
       " 'jackfruit_q',\n",
       " 'watermel_q',\n",
       " 'pineaplno_q',\n",
       " 'cocono_q',\n",
       " 'cocogno_q',\n",
       " 'guava_q',\n",
       " 'sighara_q',\n",
       " 'orangeno_q',\n",
       " 'papayar_q',\n",
       " 'mango_q',\n",
       " 'kharbooz_q',\n",
       " 'pears_q',\n",
       " 'berries_q',\n",
       " 'leechi_q',\n",
       " 'apple_q',\n",
       " 'grapes_q',\n",
       " 'otfruits_q',\n",
       " 'fruitstt_q',\n",
       " 'fruitt_total',\n",
       " 'cocodf_q',\n",
       " 'gnutdf_q',\n",
       " 'datesdf_q',\n",
       " 'cashewdf_q',\n",
       " 'walnutdf_q',\n",
       " 'otnutsdf_q',\n",
       " 'kishmish_q',\n",
       " 'otherdf_q',\n",
       " 'dryfruitstotal_q',\n",
       " 'dftt_q',\n",
       " 'sugarpds_q',\n",
       " 'sugaros_q',\n",
       " 'sugarst_q',\n",
       " 'gur_q',\n",
       " 'misri_q',\n",
       " 'honey_q',\n",
       " 'sugartotal_q',\n",
       " 'sugartt_q',\n",
       " 'salt_q',\n",
       " 'ginger_q',\n",
       " 'garlic_q',\n",
       " 'jeera_q',\n",
       " 'dhania_q',\n",
       " 'turnmeric_q',\n",
       " 'blackpepper_q',\n",
       " 'drychilly_q',\n",
       " 'tamarind_q',\n",
       " 'currypowder_q',\n",
       " 'oilseeds_q',\n",
       " 'spicesothr_q',\n",
       " 'spicetot_q',\n",
       " 'spicestotal_q',\n",
       " 'teacupno_q',\n",
       " 'tealeaf_q',\n",
       " 'teatotal_q',\n",
       " 'cofeeno_q',\n",
       " 'coffeepwdr_q',\n",
       " 'cofeetotal_q',\n",
       " 'ice_q',\n",
       " 'coldbvrg_q',\n",
       " 'juice_q',\n",
       " 'othrbevrg_q',\n",
       " 'bevergest_q',\n",
       " 'Biscuits_q',\n",
       " 'preparedsweet_q',\n",
       " 'pickle_q',\n",
       " 'sauce_jam_q',\n",
       " 'Othrprocessed_q',\n",
       " 'Beveragestotal_q',\n",
       " 'ricepds_v',\n",
       " 'riceos_v',\n",
       " 'ricetotal_v',\n",
       " 'chira_v',\n",
       " 'khoi_v',\n",
       " 'muri_v',\n",
       " 'ricepro_v',\n",
       " 'riceGT_v',\n",
       " 'Wheatpds_v',\n",
       " 'wheatos_v',\n",
       " 'wheattotal_v',\n",
       " 'maida_v',\n",
       " 'suji_v',\n",
       " 'sewai_v',\n",
       " 'bread_v',\n",
       " 'wheatp_v',\n",
       " 'wheatGT_v',\n",
       " 'jowarp_v',\n",
       " 'bajrap_v',\n",
       " 'maizep_v',\n",
       " 'barleyp_v',\n",
       " 'milletp_v',\n",
       " 'ragip_v',\n",
       " 'cerealot_v',\n",
       " 'cerealtot_v',\n",
       " 'cerealsub_v',\n",
       " 'cerealstt_v',\n",
       " 'arhar_v',\n",
       " 'gramdal_v',\n",
       " 'gramwholep_v',\n",
       " 'gramGT_v',\n",
       " 'moong_v',\n",
       " 'masur_v',\n",
       " 'urd_v',\n",
       " 'peasdal_v',\n",
       " 'khesari_v',\n",
       " 'otpulse_v',\n",
       " 'gramp_v',\n",
       " 'besan_v',\n",
       " 'pulsep_v',\n",
       " 'pulsestot_v',\n",
       " 'pulsestt_v',\n",
       " 'soyabean_v',\n",
       " 'milk_v',\n",
       " 'babyfood_v',\n",
       " 'milkcond_v',\n",
       " 'curd_v',\n",
       " 'ghee_v',\n",
       " 'butter_v',\n",
       " 'icecream_v',\n",
       " 'otmilkp_v',\n",
       " 'Milktotal_v',\n",
       " 'milkprott_v',\n",
       " 'vanas_v',\n",
       " 'musoil_v',\n",
       " 'gnoil_v',\n",
       " 'cocooil_v',\n",
       " 'edioilothr_v',\n",
       " 'edibletotal_v',\n",
       " 'ediblest_v',\n",
       " 'eggsno_v',\n",
       " 'fishprawn_v',\n",
       " 'goatmeat_v',\n",
       " 'beef_v',\n",
       " 'pork_v',\n",
       " 'chicken_v',\n",
       " 'othrbirds_v',\n",
       " 'nonvegtotal_v',\n",
       " 'emftt_v',\n",
       " 'potato_v',\n",
       " 'onion_v',\n",
       " 'tamato_v',\n",
       " 'brinjal_v',\n",
       " 'radish_v',\n",
       " 'carrot_v',\n",
       " 'palak_v',\n",
       " 'chillig_v',\n",
       " 'bhindi_v',\n",
       " 'parwal_v',\n",
       " 'cauli_v',\n",
       " 'cabbage_v',\n",
       " 'pumpkin_v',\n",
       " 'peas_v',\n",
       " 'fbeans_v',\n",
       " 'lemonno_v',\n",
       " 'otveg_v',\n",
       " 'vegtt_v',\n",
       " 'bananano_v',\n",
       " 'jackfruit_v',\n",
       " 'watermel_v',\n",
       " 'pineaplno_v',\n",
       " 'cocono_v',\n",
       " 'cocogno_v',\n",
       " 'guava_v',\n",
       " 'sighara_v',\n",
       " 'orangeno_v',\n",
       " 'papayar_v',\n",
       " 'mango_v',\n",
       " 'kharbooz_v',\n",
       " 'pears_v',\n",
       " 'berries_v',\n",
       " 'leechi_v',\n",
       " 'apple_v',\n",
       " 'grapes_v',\n",
       " 'otfruits_v',\n",
       " 'fruitstt_v',\n",
       " 'cocodf_v',\n",
       " 'gnutdf_v',\n",
       " 'datesdf_v',\n",
       " 'cashewdf_v',\n",
       " 'walnutdf_v',\n",
       " 'otnutsdf_v',\n",
       " 'kishmish_v',\n",
       " 'otherdf_v',\n",
       " 'dryfruitstotal_v',\n",
       " 'dftt_v',\n",
       " 'sugarpds_v',\n",
       " 'sugaros_v',\n",
       " 'sugarst_v',\n",
       " 'gur_v',\n",
       " 'misri_v',\n",
       " 'honey_v',\n",
       " 'sugartotal_v',\n",
       " 'sugartt_v',\n",
       " 'salt_v',\n",
       " 'ginger_v',\n",
       " 'garlic_v',\n",
       " 'jeera_v',\n",
       " 'dhania_v',\n",
       " 'turnmeric_v',\n",
       " 'blackpepper_v',\n",
       " 'drychilly_v',\n",
       " 'tamarind_v',\n",
       " 'currypowder_v',\n",
       " 'oilseeds_v',\n",
       " 'spicesothr_v',\n",
       " 'spicetot_v',\n",
       " 'spicestotal_v',\n",
       " 'teacupno_v',\n",
       " 'tealeaf_v',\n",
       " 'teatotal_v',\n",
       " 'cofeeno_v',\n",
       " 'coffeepwdr_v',\n",
       " 'cofeetotal_v',\n",
       " 'ice_v',\n",
       " 'coldbvrg_v',\n",
       " 'juice_v',\n",
       " 'othrbevrg_v',\n",
       " 'bevergest_v',\n",
       " 'Biscuits_v',\n",
       " 'preparedsweet_v',\n",
       " 'pickle_v',\n",
       " 'sauce_jam_v',\n",
       " 'Othrprocessed_v',\n",
       " 'Beveragestotal_v',\n",
       " 'foodtotal_v',\n",
       " 'foodtotal_q',\n",
       " 'state_1',\n",
       " 'Region',\n",
       " 'fruits_df_tt_v',\n",
       " 'fv_tot']"
      ]
     },
     "execution_count": 6,
     "metadata": {},
     "output_type": "execute_result"
    }
   ],
   "source": [
    "list(nss)"
   ]
  },
  {
   "cell_type": "code",
   "execution_count": 7,
   "metadata": {},
   "outputs": [],
   "source": [
    "col_names = ['Sector','state','State_Region','District','hhdsz','Religion','Social_Group',\n",
    "'Whether_owns_any_land','Land_Total_possessed','land_tt','MPCE_URP','MPCE_MRP',\n",
    "'Sex','Age','Marital_Status','Education','ricetotal_q','wheattotal_q','cerealstt_q',\n",
    "'pulsestt_q','milkprott_q','edibletotal_q','emftt_q','ricetotal_v','wheattotal_v',\n",
    "'cerealtot_v','pulsestt_v','milkprott_v','edibletotal_v','emftt_v','fv_tot','state_1','MLT']"
   ]
  },
  {
   "cell_type": "code",
   "execution_count": 79,
   "metadata": {},
   "outputs": [],
   "source": [
    "nss1 = nss[col_names]"
   ]
  },
  {
   "cell_type": "code",
   "execution_count": 9,
   "metadata": {},
   "outputs": [
    {
     "data": {
      "text/plain": [
       "((101662, 384), (101662, 33))"
      ]
     },
     "execution_count": 9,
     "metadata": {},
     "output_type": "execute_result"
    }
   ],
   "source": [
    "nss.shape, nss1.shape"
   ]
  },
  {
   "cell_type": "markdown",
   "metadata": {},
   "source": [
    "### Finding Missing Values and Missing Value Treatment"
   ]
  },
  {
   "cell_type": "code",
   "execution_count": 14,
   "metadata": {},
   "outputs": [
    {
     "data": {
      "text/plain": [
       "7"
      ]
     },
     "execution_count": 14,
     "metadata": {},
     "output_type": "execute_result"
    }
   ],
   "source": [
    "nss1.isnull().any().sum()"
   ]
  },
  {
   "cell_type": "code",
   "execution_count": 13,
   "metadata": {
    "collapsed": true
   },
   "outputs": [
    {
     "data": {
      "text/plain": [
       "Sector                   False\n",
       "state                    False\n",
       "State_Region             False\n",
       "District                 False\n",
       "hhdsz                    False\n",
       "Religion                  True\n",
       "Social_Group              True\n",
       "Whether_owns_any_land     True\n",
       "Land_Total_possessed      True\n",
       "land_tt                   True\n",
       "MPCE_URP                 False\n",
       "MPCE_MRP                 False\n",
       "Sex                      False\n",
       "Age                      False\n",
       "Marital_Status            True\n",
       "Education                 True\n",
       "ricetotal_q              False\n",
       "wheattotal_q             False\n",
       "cerealstt_q              False\n",
       "pulsestt_q               False\n",
       "milkprott_q              False\n",
       "edibletotal_q            False\n",
       "emftt_q                  False\n",
       "ricetotal_v              False\n",
       "wheattotal_v             False\n",
       "cerealtot_v              False\n",
       "pulsestt_v               False\n",
       "milkprott_v              False\n",
       "edibletotal_v            False\n",
       "emftt_v                  False\n",
       "fv_tot                   False\n",
       "state_1                  False\n",
       "MLT                      False\n",
       "dtype: bool"
      ]
     },
     "execution_count": 13,
     "metadata": {},
     "output_type": "execute_result"
    }
   ],
   "source": [
    "nss1.isna().any()"
   ]
  },
  {
   "cell_type": "code",
   "execution_count": 16,
   "metadata": {},
   "outputs": [
    {
     "data": {
      "text/plain": [
       "False"
      ]
     },
     "execution_count": 16,
     "metadata": {},
     "output_type": "execute_result"
    }
   ],
   "source": [
    "nss1['MPCE_MRP'].isnull().any()"
   ]
  },
  {
   "cell_type": "code",
   "execution_count": 19,
   "metadata": {},
   "outputs": [
    {
     "data": {
      "text/plain": [
       "3662.65"
      ]
     },
     "execution_count": 19,
     "metadata": {},
     "output_type": "execute_result"
    }
   ],
   "source": [
    "nss1['MPCE_MRP'][0]"
   ]
  },
  {
   "cell_type": "code",
   "execution_count": 83,
   "metadata": {
    "collapsed": true
   },
   "outputs": [
    {
     "name": "stderr",
     "output_type": "stream",
     "text": [
      "C:\\ProgramData\\Anaconda3\\lib\\site-packages\\ipykernel_launcher.py:1: SettingWithCopyWarning: \n",
      "A value is trying to be set on a copy of a slice from a DataFrame\n",
      "\n",
      "See the caveats in the documentation: http://pandas.pydata.org/pandas-docs/stable/user_guide/indexing.html#returning-a-view-versus-a-copy\n",
      "  \"\"\"Entry point for launching an IPython kernel.\n",
      "C:\\ProgramData\\Anaconda3\\lib\\site-packages\\IPython\\core\\interactiveshell.py:3319: SettingWithCopyWarning: \n",
      "A value is trying to be set on a copy of a slice from a DataFrame\n",
      "\n",
      "See the caveats in the documentation: http://pandas.pydata.org/pandas-docs/stable/user_guide/indexing.html#returning-a-view-versus-a-copy\n",
      "  exec(code_obj, self.user_global_ns, self.user_ns)\n"
     ]
    }
   ],
   "source": [
    "nss1['MPCE_MRP'][0] = np.nan"
   ]
  },
  {
   "cell_type": "code",
   "execution_count": 21,
   "metadata": {
    "collapsed": true
   },
   "outputs": [
    {
     "data": {
      "text/plain": [
       "0             NaN\n",
       "1         5624.51\n",
       "2         3657.18\n",
       "3         3260.37\n",
       "4         2627.54\n",
       "           ...   \n",
       "101657     832.59\n",
       "101658     862.13\n",
       "101659     711.37\n",
       "101660    1048.32\n",
       "101661     834.03\n",
       "Name: MPCE_MRP, Length: 101662, dtype: float64"
      ]
     },
     "execution_count": 21,
     "metadata": {},
     "output_type": "execute_result"
    }
   ],
   "source": [
    "nss1['MPCE_MRP']"
   ]
  },
  {
   "cell_type": "code",
   "execution_count": 22,
   "metadata": {},
   "outputs": [
    {
     "data": {
      "text/plain": [
       "(101662, 33)"
      ]
     },
     "execution_count": 22,
     "metadata": {},
     "output_type": "execute_result"
    }
   ],
   "source": [
    "nss1.shape"
   ]
  },
  {
   "cell_type": "code",
   "execution_count": 23,
   "metadata": {
    "collapsed": true
   },
   "outputs": [
    {
     "data": {
      "text/html": [
       "<div>\n",
       "<style scoped>\n",
       "    .dataframe tbody tr th:only-of-type {\n",
       "        vertical-align: middle;\n",
       "    }\n",
       "\n",
       "    .dataframe tbody tr th {\n",
       "        vertical-align: top;\n",
       "    }\n",
       "\n",
       "    .dataframe thead th {\n",
       "        text-align: right;\n",
       "    }\n",
       "</style>\n",
       "<table border=\"1\" class=\"dataframe\">\n",
       "  <thead>\n",
       "    <tr style=\"text-align: right;\">\n",
       "      <th></th>\n",
       "      <th>Sector</th>\n",
       "      <th>state</th>\n",
       "      <th>State_Region</th>\n",
       "      <th>District</th>\n",
       "      <th>hhdsz</th>\n",
       "      <th>Religion</th>\n",
       "      <th>Social_Group</th>\n",
       "      <th>Whether_owns_any_land</th>\n",
       "      <th>Land_Total_possessed</th>\n",
       "      <th>land_tt</th>\n",
       "      <th>...</th>\n",
       "      <th>ricetotal_v</th>\n",
       "      <th>wheattotal_v</th>\n",
       "      <th>cerealtot_v</th>\n",
       "      <th>pulsestt_v</th>\n",
       "      <th>milkprott_v</th>\n",
       "      <th>edibletotal_v</th>\n",
       "      <th>emftt_v</th>\n",
       "      <th>fv_tot</th>\n",
       "      <th>state_1</th>\n",
       "      <th>MLT</th>\n",
       "    </tr>\n",
       "  </thead>\n",
       "  <tbody>\n",
       "    <tr>\n",
       "      <th>0</th>\n",
       "      <td>2</td>\n",
       "      <td>24</td>\n",
       "      <td>242</td>\n",
       "      <td>7</td>\n",
       "      <td>5</td>\n",
       "      <td>1.0</td>\n",
       "      <td>3.0</td>\n",
       "      <td>1.0</td>\n",
       "      <td>1.0</td>\n",
       "      <td>0.01</td>\n",
       "      <td>...</td>\n",
       "      <td>50.000000</td>\n",
       "      <td>144.000000</td>\n",
       "      <td>212.000000</td>\n",
       "      <td>76.4</td>\n",
       "      <td>355.68</td>\n",
       "      <td>150.000000</td>\n",
       "      <td>168.000</td>\n",
       "      <td>154.18</td>\n",
       "      <td>GUJ</td>\n",
       "      <td>738883.0</td>\n",
       "    </tr>\n",
       "    <tr>\n",
       "      <th>1</th>\n",
       "      <td>2</td>\n",
       "      <td>24</td>\n",
       "      <td>242</td>\n",
       "      <td>7</td>\n",
       "      <td>2</td>\n",
       "      <td>3.0</td>\n",
       "      <td>9.0</td>\n",
       "      <td>1.0</td>\n",
       "      <td>1.0</td>\n",
       "      <td>0.01</td>\n",
       "      <td>...</td>\n",
       "      <td>25.000000</td>\n",
       "      <td>90.000000</td>\n",
       "      <td>235.000000</td>\n",
       "      <td>122.5</td>\n",
       "      <td>331.86</td>\n",
       "      <td>100.000000</td>\n",
       "      <td>0.660</td>\n",
       "      <td>484.95</td>\n",
       "      <td>GUJ</td>\n",
       "      <td>738883.0</td>\n",
       "    </tr>\n",
       "    <tr>\n",
       "      <th>2</th>\n",
       "      <td>2</td>\n",
       "      <td>24</td>\n",
       "      <td>242</td>\n",
       "      <td>7</td>\n",
       "      <td>5</td>\n",
       "      <td>1.0</td>\n",
       "      <td>9.0</td>\n",
       "      <td>1.0</td>\n",
       "      <td>2.0</td>\n",
       "      <td>0.02</td>\n",
       "      <td>...</td>\n",
       "      <td>66.000000</td>\n",
       "      <td>120.000000</td>\n",
       "      <td>217.400000</td>\n",
       "      <td>64.0</td>\n",
       "      <td>312.16</td>\n",
       "      <td>152.000000</td>\n",
       "      <td>31.056</td>\n",
       "      <td>214.84</td>\n",
       "      <td>GUJ</td>\n",
       "      <td>738883.0</td>\n",
       "    </tr>\n",
       "    <tr>\n",
       "      <th>3</th>\n",
       "      <td>2</td>\n",
       "      <td>24</td>\n",
       "      <td>242</td>\n",
       "      <td>7</td>\n",
       "      <td>3</td>\n",
       "      <td>3.0</td>\n",
       "      <td>9.0</td>\n",
       "      <td>1.0</td>\n",
       "      <td>3.0</td>\n",
       "      <td>0.03</td>\n",
       "      <td>...</td>\n",
       "      <td>66.666667</td>\n",
       "      <td>116.666667</td>\n",
       "      <td>193.333333</td>\n",
       "      <td>127.0</td>\n",
       "      <td>217.80</td>\n",
       "      <td>93.333333</td>\n",
       "      <td>141.760</td>\n",
       "      <td>302.30</td>\n",
       "      <td>GUJ</td>\n",
       "      <td>1649600.0</td>\n",
       "    </tr>\n",
       "    <tr>\n",
       "      <th>4</th>\n",
       "      <td>2</td>\n",
       "      <td>24</td>\n",
       "      <td>242</td>\n",
       "      <td>7</td>\n",
       "      <td>4</td>\n",
       "      <td>1.0</td>\n",
       "      <td>9.0</td>\n",
       "      <td>1.0</td>\n",
       "      <td>2.0</td>\n",
       "      <td>0.02</td>\n",
       "      <td>...</td>\n",
       "      <td>31.250000</td>\n",
       "      <td>55.000000</td>\n",
       "      <td>146.750000</td>\n",
       "      <td>45.0</td>\n",
       "      <td>444.60</td>\n",
       "      <td>56.250000</td>\n",
       "      <td>1.100</td>\n",
       "      <td>148.00</td>\n",
       "      <td>GUJ</td>\n",
       "      <td>1649600.0</td>\n",
       "    </tr>\n",
       "  </tbody>\n",
       "</table>\n",
       "<p>5 rows × 33 columns</p>\n",
       "</div>"
      ],
      "text/plain": [
       "   Sector  state  State_Region  District  hhdsz  Religion  Social_Group  \\\n",
       "0       2     24           242         7      5       1.0           3.0   \n",
       "1       2     24           242         7      2       3.0           9.0   \n",
       "2       2     24           242         7      5       1.0           9.0   \n",
       "3       2     24           242         7      3       3.0           9.0   \n",
       "4       2     24           242         7      4       1.0           9.0   \n",
       "\n",
       "   Whether_owns_any_land  Land_Total_possessed  land_tt  ...  ricetotal_v  \\\n",
       "0                    1.0                   1.0     0.01  ...    50.000000   \n",
       "1                    1.0                   1.0     0.01  ...    25.000000   \n",
       "2                    1.0                   2.0     0.02  ...    66.000000   \n",
       "3                    1.0                   3.0     0.03  ...    66.666667   \n",
       "4                    1.0                   2.0     0.02  ...    31.250000   \n",
       "\n",
       "   wheattotal_v  cerealtot_v  pulsestt_v  milkprott_v  edibletotal_v  emftt_v  \\\n",
       "0    144.000000   212.000000        76.4       355.68     150.000000  168.000   \n",
       "1     90.000000   235.000000       122.5       331.86     100.000000    0.660   \n",
       "2    120.000000   217.400000        64.0       312.16     152.000000   31.056   \n",
       "3    116.666667   193.333333       127.0       217.80      93.333333  141.760   \n",
       "4     55.000000   146.750000        45.0       444.60      56.250000    1.100   \n",
       "\n",
       "   fv_tot  state_1        MLT  \n",
       "0  154.18      GUJ   738883.0  \n",
       "1  484.95      GUJ   738883.0  \n",
       "2  214.84      GUJ   738883.0  \n",
       "3  302.30      GUJ  1649600.0  \n",
       "4  148.00      GUJ  1649600.0  \n",
       "\n",
       "[5 rows x 33 columns]"
      ]
     },
     "execution_count": 23,
     "metadata": {},
     "output_type": "execute_result"
    }
   ],
   "source": [
    "nss1.head()"
   ]
  },
  {
   "cell_type": "code",
   "execution_count": 24,
   "metadata": {},
   "outputs": [],
   "source": [
    "nss2 = nss1.dropna() # Removes the rows with any null value"
   ]
  },
  {
   "cell_type": "code",
   "execution_count": 25,
   "metadata": {},
   "outputs": [
    {
     "data": {
      "text/plain": [
       "(101189, 33)"
      ]
     },
     "execution_count": 25,
     "metadata": {},
     "output_type": "execute_result"
    }
   ],
   "source": [
    "nss2.shape"
   ]
  },
  {
   "cell_type": "code",
   "execution_count": 26,
   "metadata": {},
   "outputs": [
    {
     "data": {
      "text/plain": [
       "473"
      ]
     },
     "execution_count": 26,
     "metadata": {},
     "output_type": "execute_result"
    }
   ],
   "source": [
    "101662 - 101189"
   ]
  },
  {
   "cell_type": "code",
   "execution_count": 27,
   "metadata": {},
   "outputs": [],
   "source": [
    "nss3 = nss1.dropna(axis=1) # Removes the columns with any null value"
   ]
  },
  {
   "cell_type": "code",
   "execution_count": 28,
   "metadata": {},
   "outputs": [
    {
     "data": {
      "text/plain": [
       "(101662, 25)"
      ]
     },
     "execution_count": 28,
     "metadata": {},
     "output_type": "execute_result"
    }
   ],
   "source": [
    "nss3.shape"
   ]
  },
  {
   "cell_type": "code",
   "execution_count": 39,
   "metadata": {},
   "outputs": [],
   "source": [
    "nss4 = nss1.dropna(axis=1, thresh=.95)"
   ]
  },
  {
   "cell_type": "code",
   "execution_count": 40,
   "metadata": {},
   "outputs": [
    {
     "data": {
      "text/plain": [
       "(101662, 33)"
      ]
     },
     "execution_count": 40,
     "metadata": {},
     "output_type": "execute_result"
    }
   ],
   "source": [
    "nss4.shape"
   ]
  },
  {
   "cell_type": "code",
   "execution_count": 37,
   "metadata": {},
   "outputs": [],
   "source": [
    "nss4 = nss1.dropna(axis=1, thresh= 50)"
   ]
  },
  {
   "cell_type": "code",
   "execution_count": 38,
   "metadata": {},
   "outputs": [
    {
     "data": {
      "text/plain": [
       "(101662, 33)"
      ]
     },
     "execution_count": 38,
     "metadata": {},
     "output_type": "execute_result"
    }
   ],
   "source": [
    "nss4.shape"
   ]
  },
  {
   "cell_type": "markdown",
   "metadata": {},
   "source": [
    "### Imputation with mean value"
   ]
  },
  {
   "cell_type": "code",
   "execution_count": 41,
   "metadata": {},
   "outputs": [
    {
     "data": {
      "text/plain": [
       "2078.7356487738657"
      ]
     },
     "execution_count": 41,
     "metadata": {},
     "output_type": "execute_result"
    }
   ],
   "source": [
    "nss1['MPCE_MRP'].mean()"
   ]
  },
  {
   "cell_type": "code",
   "execution_count": 42,
   "metadata": {},
   "outputs": [
    {
     "data": {
      "text/plain": [
       "1533.87"
      ]
     },
     "execution_count": 42,
     "metadata": {},
     "output_type": "execute_result"
    }
   ],
   "source": [
    "nss1['MPCE_MRP'].median()"
   ]
  },
  {
   "cell_type": "code",
   "execution_count": 43,
   "metadata": {
    "collapsed": true
   },
   "outputs": [
    {
     "data": {
      "text/plain": [
       "0         2078.735649\n",
       "1         5624.510000\n",
       "2         3657.180000\n",
       "3         3260.370000\n",
       "4         2627.540000\n",
       "             ...     \n",
       "101657     832.590000\n",
       "101658     862.130000\n",
       "101659     711.370000\n",
       "101660    1048.320000\n",
       "101661     834.030000\n",
       "Name: MPCE_MRP, Length: 101662, dtype: float64"
      ]
     },
     "execution_count": 43,
     "metadata": {},
     "output_type": "execute_result"
    }
   ],
   "source": [
    "nss1['MPCE_MRP'].replace(np.nan,nss1['MPCE_MRP'].mean())"
   ]
  },
  {
   "cell_type": "code",
   "execution_count": 111,
   "metadata": {},
   "outputs": [
    {
     "name": "stderr",
     "output_type": "stream",
     "text": [
      "C:\\ProgramData\\Anaconda3\\lib\\site-packages\\ipykernel_launcher.py:1: SettingWithCopyWarning: \n",
      "A value is trying to be set on a copy of a slice from a DataFrame\n",
      "\n",
      "See the caveats in the documentation: http://pandas.pydata.org/pandas-docs/stable/user_guide/indexing.html#returning-a-view-versus-a-copy\n",
      "  \"\"\"Entry point for launching an IPython kernel.\n",
      "C:\\ProgramData\\Anaconda3\\lib\\site-packages\\IPython\\core\\interactiveshell.py:3319: SettingWithCopyWarning: \n",
      "A value is trying to be set on a copy of a slice from a DataFrame\n",
      "\n",
      "See the caveats in the documentation: http://pandas.pydata.org/pandas-docs/stable/user_guide/indexing.html#returning-a-view-versus-a-copy\n",
      "  exec(code_obj, self.user_global_ns, self.user_ns)\n"
     ]
    }
   ],
   "source": [
    "nss1['MPCE_MRP'][0] = np.nan"
   ]
  },
  {
   "cell_type": "markdown",
   "metadata": {},
   "source": [
    "# knn "
   ]
  },
  {
   "cell_type": "code",
   "execution_count": 118,
   "metadata": {
    "collapsed": true
   },
   "outputs": [
    {
     "name": "stderr",
     "output_type": "stream",
     "text": [
      "C:\\ProgramData\\Anaconda3\\lib\\site-packages\\ipykernel_launcher.py:1: SettingWithCopyWarning: \n",
      "A value is trying to be set on a copy of a slice from a DataFrame\n",
      "\n",
      "See the caveats in the documentation: http://pandas.pydata.org/pandas-docs/stable/user_guide/indexing.html#returning-a-view-versus-a-copy\n",
      "  \"\"\"Entry point for launching an IPython kernel.\n",
      "C:\\ProgramData\\Anaconda3\\lib\\site-packages\\IPython\\core\\interactiveshell.py:3319: SettingWithCopyWarning: \n",
      "A value is trying to be set on a copy of a slice from a DataFrame\n",
      "\n",
      "See the caveats in the documentation: http://pandas.pydata.org/pandas-docs/stable/user_guide/indexing.html#returning-a-view-versus-a-copy\n",
      "  exec(code_obj, self.user_global_ns, self.user_ns)\n",
      "C:\\ProgramData\\Anaconda3\\lib\\site-packages\\ipykernel_launcher.py:7: SettingWithCopyWarning: \n",
      "A value is trying to be set on a copy of a slice from a DataFrame.\n",
      "Try using .loc[row_indexer,col_indexer] = value instead\n",
      "\n",
      "See the caveats in the documentation: http://pandas.pydata.org/pandas-docs/stable/user_guide/indexing.html#returning-a-view-versus-a-copy\n",
      "  import sys\n"
     ]
    }
   ],
   "source": [
    "nss1['MPCE_MRP'][0] = np.nan\n",
    "from sklearn.impute import KNNImputer\n",
    "imputer_knn = KNNImputer(n_neighbors=20)\n",
    "columns_for_imputation = ['MPCE_MRP']\n",
    "data_subset = nss1[columns_for_imputation]\n",
    "data_subset_imputed = pd.DataFrame(imputer_knn.fit_transform(data_subset), columns=data_subset.columns)\n",
    "nss1['mpce_imputed'] = data_subset_imputed['MPCE_MRP']"
   ]
  },
  {
   "cell_type": "code",
   "execution_count": 119,
   "metadata": {
    "collapsed": true
   },
   "outputs": [
    {
     "data": {
      "text/plain": [
       "0         1876.319692\n",
       "1         4421.425000\n",
       "2         3657.180000\n",
       "3         3260.370000\n",
       "4         2627.540000\n",
       "             ...     \n",
       "101657     832.590000\n",
       "101658     862.130000\n",
       "101659     711.370000\n",
       "101660    1048.320000\n",
       "101661     834.030000\n",
       "Name: mpce_imputed, Length: 101662, dtype: float64"
      ]
     },
     "execution_count": 119,
     "metadata": {},
     "output_type": "execute_result"
    }
   ],
   "source": [
    "nss1['mpce_imputed']"
   ]
  },
  {
   "cell_type": "code",
   "execution_count": 45,
   "metadata": {
    "collapsed": true
   },
   "outputs": [
    {
     "data": {
      "text/html": [
       "<div>\n",
       "<style scoped>\n",
       "    .dataframe tbody tr th:only-of-type {\n",
       "        vertical-align: middle;\n",
       "    }\n",
       "\n",
       "    .dataframe tbody tr th {\n",
       "        vertical-align: top;\n",
       "    }\n",
       "\n",
       "    .dataframe thead th {\n",
       "        text-align: right;\n",
       "    }\n",
       "</style>\n",
       "<table border=\"1\" class=\"dataframe\">\n",
       "  <thead>\n",
       "    <tr style=\"text-align: right;\">\n",
       "      <th></th>\n",
       "      <th>Sector</th>\n",
       "      <th>state</th>\n",
       "      <th>State_Region</th>\n",
       "      <th>District</th>\n",
       "      <th>hhdsz</th>\n",
       "      <th>Religion</th>\n",
       "      <th>Social_Group</th>\n",
       "      <th>Whether_owns_any_land</th>\n",
       "      <th>Land_Total_possessed</th>\n",
       "      <th>land_tt</th>\n",
       "      <th>...</th>\n",
       "      <th>ricetotal_v</th>\n",
       "      <th>wheattotal_v</th>\n",
       "      <th>cerealtot_v</th>\n",
       "      <th>pulsestt_v</th>\n",
       "      <th>milkprott_v</th>\n",
       "      <th>edibletotal_v</th>\n",
       "      <th>emftt_v</th>\n",
       "      <th>fv_tot</th>\n",
       "      <th>state_1</th>\n",
       "      <th>MLT</th>\n",
       "    </tr>\n",
       "  </thead>\n",
       "  <tbody>\n",
       "    <tr>\n",
       "      <th>0</th>\n",
       "      <td>2</td>\n",
       "      <td>24</td>\n",
       "      <td>242</td>\n",
       "      <td>7</td>\n",
       "      <td>5</td>\n",
       "      <td>1.0</td>\n",
       "      <td>3.0</td>\n",
       "      <td>1.0</td>\n",
       "      <td>1.0</td>\n",
       "      <td>0.01</td>\n",
       "      <td>...</td>\n",
       "      <td>50.0</td>\n",
       "      <td>144.0</td>\n",
       "      <td>212.0</td>\n",
       "      <td>76.4</td>\n",
       "      <td>355.68</td>\n",
       "      <td>150.0</td>\n",
       "      <td>168.0</td>\n",
       "      <td>154.18</td>\n",
       "      <td>GUJ</td>\n",
       "      <td>738883.0</td>\n",
       "    </tr>\n",
       "  </tbody>\n",
       "</table>\n",
       "<p>1 rows × 33 columns</p>\n",
       "</div>"
      ],
      "text/plain": [
       "   Sector  state  State_Region  District  hhdsz  Religion  Social_Group  \\\n",
       "0       2     24           242         7      5       1.0           3.0   \n",
       "\n",
       "   Whether_owns_any_land  Land_Total_possessed  land_tt  ...  ricetotal_v  \\\n",
       "0                    1.0                   1.0     0.01  ...         50.0   \n",
       "\n",
       "   wheattotal_v  cerealtot_v  pulsestt_v  milkprott_v  edibletotal_v  emftt_v  \\\n",
       "0         144.0        212.0        76.4       355.68          150.0    168.0   \n",
       "\n",
       "   fv_tot  state_1       MLT  \n",
       "0  154.18      GUJ  738883.0  \n",
       "\n",
       "[1 rows x 33 columns]"
      ]
     },
     "execution_count": 45,
     "metadata": {},
     "output_type": "execute_result"
    }
   ],
   "source": [
    "nss1[nss1['MPCE_MRP'].isnull()]"
   ]
  },
  {
   "cell_type": "code",
   "execution_count": null,
   "metadata": {},
   "outputs": [],
   "source": [
    "sector = 2\n",
    "state = 24\n",
    "district = 7\n",
    "religion = 1.0\n",
    "socil_group = 3"
   ]
  },
  {
   "cell_type": "code",
   "execution_count": 120,
   "metadata": {
    "collapsed": true
   },
   "outputs": [
    {
     "name": "stderr",
     "output_type": "stream",
     "text": [
      "C:\\ProgramData\\Anaconda3\\lib\\site-packages\\ipykernel_launcher.py:1: SettingWithCopyWarning: \n",
      "A value is trying to be set on a copy of a slice from a DataFrame\n",
      "\n",
      "See the caveats in the documentation: http://pandas.pydata.org/pandas-docs/stable/user_guide/indexing.html#returning-a-view-versus-a-copy\n",
      "  \"\"\"Entry point for launching an IPython kernel.\n",
      "C:\\ProgramData\\Anaconda3\\lib\\site-packages\\IPython\\core\\interactiveshell.py:3319: SettingWithCopyWarning: \n",
      "A value is trying to be set on a copy of a slice from a DataFrame\n",
      "\n",
      "See the caveats in the documentation: http://pandas.pydata.org/pandas-docs/stable/user_guide/indexing.html#returning-a-view-versus-a-copy\n",
      "  exec(code_obj, self.user_global_ns, self.user_ns)\n"
     ]
    }
   ],
   "source": [
    "nss1['MPCE_MRP'][0] = np.nan"
   ]
  },
  {
   "cell_type": "code",
   "execution_count": 54,
   "metadata": {},
   "outputs": [],
   "source": [
    "nss_new = nss1[(nss1['Sector'] == 2) & (nss1['State_Region'] == 242) & (nss1['Religion']==1.0)\n",
    "              &(nss1['Social_Group'] == 3.0) & (nss1['District'] == 7) & (nss1['hhdsz']==5)]"
   ]
  },
  {
   "cell_type": "code",
   "execution_count": 55,
   "metadata": {},
   "outputs": [
    {
     "data": {
      "text/plain": [
       "2642.6988235294116"
      ]
     },
     "execution_count": 55,
     "metadata": {},
     "output_type": "execute_result"
    }
   ],
   "source": [
    "nss_new['MPCE_MRP'].mean()"
   ]
  },
  {
   "cell_type": "code",
   "execution_count": 56,
   "metadata": {},
   "outputs": [],
   "source": [
    "nss_new = nss1[(nss1['Sector'] == 2) & (nss1['State_Region'] == 242) & (nss1['Religion']==1.0)\n",
    "              &(nss1['Social_Group'] == 3.0) & (nss1['District'] == 7) & (nss1['hhdsz']==5) \n",
    "               & (nss1['Whether_owns_any_land'] == 1.0)]"
   ]
  },
  {
   "cell_type": "code",
   "execution_count": 57,
   "metadata": {},
   "outputs": [
    {
     "data": {
      "text/plain": [
       "2909.5028571428566"
      ]
     },
     "execution_count": 57,
     "metadata": {},
     "output_type": "execute_result"
    }
   ],
   "source": [
    "nss_new['MPCE_MRP'].mean()"
   ]
  },
  {
   "cell_type": "markdown",
   "metadata": {},
   "source": [
    "#### Actual value of MPCE_MRP was 3662\n",
    "#### As we started taking mean of more representative group, the mean was approaching towards actual value of 3662"
   ]
  },
  {
   "cell_type": "code",
   "execution_count": 60,
   "metadata": {
    "collapsed": true
   },
   "outputs": [
    {
     "data": {
      "text/plain": [
       "0         5624.51\n",
       "1         5624.51\n",
       "2         3657.18\n",
       "3         3260.37\n",
       "4         2627.54\n",
       "           ...   \n",
       "101657     832.59\n",
       "101658     862.13\n",
       "101659     711.37\n",
       "101660    1048.32\n",
       "101661     834.03\n",
       "Name: MPCE_MRP, Length: 101662, dtype: float64"
      ]
     },
     "execution_count": 60,
     "metadata": {},
     "output_type": "execute_result"
    }
   ],
   "source": [
    "nss1['MPCE_MRP'].bfill()"
   ]
  },
  {
   "cell_type": "code",
   "execution_count": 61,
   "metadata": {},
   "outputs": [
    {
     "name": "stderr",
     "output_type": "stream",
     "text": [
      "C:\\ProgramData\\Anaconda3\\lib\\site-packages\\ipykernel_launcher.py:1: SettingWithCopyWarning: \n",
      "A value is trying to be set on a copy of a slice from a DataFrame\n",
      "\n",
      "See the caveats in the documentation: http://pandas.pydata.org/pandas-docs/stable/user_guide/indexing.html#returning-a-view-versus-a-copy\n",
      "  \"\"\"Entry point for launching an IPython kernel.\n"
     ]
    }
   ],
   "source": [
    "nss1['MPCE_MRP'][3] = np.nan"
   ]
  },
  {
   "cell_type": "code",
   "execution_count": 62,
   "metadata": {
    "collapsed": true
   },
   "outputs": [
    {
     "data": {
      "text/plain": [
       "0             NaN\n",
       "1         5624.51\n",
       "2         3657.18\n",
       "3             NaN\n",
       "4         2627.54\n",
       "           ...   \n",
       "101657     832.59\n",
       "101658     862.13\n",
       "101659     711.37\n",
       "101660    1048.32\n",
       "101661     834.03\n",
       "Name: MPCE_MRP, Length: 101662, dtype: float64"
      ]
     },
     "execution_count": 62,
     "metadata": {},
     "output_type": "execute_result"
    }
   ],
   "source": [
    "nss1['MPCE_MRP']"
   ]
  },
  {
   "cell_type": "code",
   "execution_count": 63,
   "metadata": {
    "collapsed": true
   },
   "outputs": [
    {
     "data": {
      "text/plain": [
       "0             NaN\n",
       "1         5624.51\n",
       "2         3657.18\n",
       "3         3657.18\n",
       "4         2627.54\n",
       "           ...   \n",
       "101657     832.59\n",
       "101658     862.13\n",
       "101659     711.37\n",
       "101660    1048.32\n",
       "101661     834.03\n",
       "Name: MPCE_MRP, Length: 101662, dtype: float64"
      ]
     },
     "execution_count": 63,
     "metadata": {},
     "output_type": "execute_result"
    }
   ],
   "source": [
    "nss1['MPCE_MRP'].ffill()"
   ]
  },
  {
   "cell_type": "markdown",
   "metadata": {},
   "source": [
    "### Outliers identification and treatment"
   ]
  },
  {
   "cell_type": "code",
   "execution_count": 65,
   "metadata": {},
   "outputs": [
    {
     "data": {
      "image/png": "[encoded data removed]",
      "text/plain": [
       "<Figure size 432x288 with 1 Axes>"
      ]
     },
     "metadata": {
      "needs_background": "light"
     },
     "output_type": "display_data"
    }
   ],
   "source": [
    "nss1.boxplot(column='MPCE_MRP');"
   ]
  },
  {
   "cell_type": "code",
   "execution_count": 66,
   "metadata": {},
   "outputs": [],
   "source": [
    "nss2 = nss1[nss1['MPCE_MRP'] < 80000]"
   ]
  },
  {
   "cell_type": "code",
   "execution_count": 68,
   "metadata": {},
   "outputs": [
    {
     "data": {
      "image/png": "[encoded data removed]",
      "text/plain": [
       "<Figure size 432x288 with 1 Axes>"
      ]
     },
     "metadata": {
      "needs_background": "light"
     },
     "output_type": "display_data"
    }
   ],
   "source": [
    "nss2.boxplot(column='MPCE_MRP');"
   ]
  },
  {
   "cell_type": "code",
   "execution_count": 71,
   "metadata": {},
   "outputs": [],
   "source": [
    "def remove_outlier(col):\n",
    "    sorted(col)\n",
    "    Q1,Q3 = col.quantile([0.25,0.75])\n",
    "    IQR = Q3 -Q1\n",
    "    lower_range = Q1 - (1.5*IQR)\n",
    "    upper_range = Q3 + (1.5*IQR)\n",
    "    return lower_range, upper_range"
   ]
  },
  {
   "cell_type": "code",
   "execution_count": 72,
   "metadata": {},
   "outputs": [
    {
     "data": {
      "text/plain": [
       "(-965.9750000000001, 4421.425)"
      ]
     },
     "execution_count": 72,
     "metadata": {},
     "output_type": "execute_result"
    }
   ],
   "source": [
    "remove_outlier(nss1['MPCE_MRP'])"
   ]
  },
  {
   "cell_type": "code",
   "execution_count": 73,
   "metadata": {},
   "outputs": [],
   "source": [
    "lowincome,upincome = remove_outlier(nss1['MPCE_MRP'])"
   ]
  },
  {
   "cell_type": "code",
   "execution_count": 74,
   "metadata": {},
   "outputs": [
    {
     "data": {
      "text/plain": [
       "(-965.9750000000001, 4421.425)"
      ]
     },
     "execution_count": 74,
     "metadata": {},
     "output_type": "execute_result"
    }
   ],
   "source": [
    "lowincome,upincome"
   ]
  },
  {
   "cell_type": "code",
   "execution_count": 80,
   "metadata": {},
   "outputs": [
    {
     "name": "stderr",
     "output_type": "stream",
     "text": [
      "C:\\ProgramData\\Anaconda3\\lib\\site-packages\\ipykernel_launcher.py:1: SettingWithCopyWarning: \n",
      "A value is trying to be set on a copy of a slice from a DataFrame.\n",
      "Try using .loc[row_indexer,col_indexer] = value instead\n",
      "\n",
      "See the caveats in the documentation: http://pandas.pydata.org/pandas-docs/stable/user_guide/indexing.html#returning-a-view-versus-a-copy\n",
      "  \"\"\"Entry point for launching an IPython kernel.\n",
      "C:\\ProgramData\\Anaconda3\\lib\\site-packages\\ipykernel_launcher.py:2: SettingWithCopyWarning: \n",
      "A value is trying to be set on a copy of a slice from a DataFrame.\n",
      "Try using .loc[row_indexer,col_indexer] = value instead\n",
      "\n",
      "See the caveats in the documentation: http://pandas.pydata.org/pandas-docs/stable/user_guide/indexing.html#returning-a-view-versus-a-copy\n",
      "  \n"
     ]
    }
   ],
   "source": [
    "nss1['MPCE_MRP'] = np.where(nss1['MPCE_MRP'] > upincome,upincome,nss1['MPCE_MRP'])\n",
    "nss1['MPCE_MRP'] = np.where(nss1['MPCE_MRP'] < lowincome,lowincome,nss1['MPCE_MRP'])"
   ]
  },
  {
   "cell_type": "code",
   "execution_count": 81,
   "metadata": {},
   "outputs": [
    {
     "data": {
      "image/png": "[encoded data removed]",
      "text/plain": [
       "<Figure size 432x288 with 1 Axes>"
      ]
     },
     "metadata": {
      "needs_background": "light"
     },
     "output_type": "display_data"
    }
   ],
   "source": [
    "nss1.boxplot(column='MPCE_MRP');"
   ]
  },
  {
   "cell_type": "code",
   "execution_count": 82,
   "metadata": {},
   "outputs": [
    {
     "data": {
      "image/png": "[encoded data removed]",
      "text/plain": [
       "<Figure size 432x288 with 1 Axes>"
      ]
     },
     "metadata": {
      "needs_background": "light"
     },
     "output_type": "display_data"
    }
   ],
   "source": [
    "sns.distplot(nss1['MPCE_MRP']);"
   ]
  },
  {
   "cell_type": "code",
   "execution_count": 78,
   "metadata": {
    "collapsed": true
   },
   "outputs": [
    {
     "data": {
      "text/plain": [
       "0          True\n",
       "1         False\n",
       "2         False\n",
       "3          True\n",
       "4         False\n",
       "          ...  \n",
       "101657    False\n",
       "101658    False\n",
       "101659    False\n",
       "101660    False\n",
       "101661    False\n",
       "Name: MPCE_MRP, Length: 101662, dtype: bool"
      ]
     },
     "execution_count": 78,
     "metadata": {},
     "output_type": "execute_result"
    }
   ],
   "source": [
    "nss1['MPCE_MRP'].isnull()"
   ]
  },
  {
   "cell_type": "markdown",
   "metadata": {},
   "source": [
    "### Survey Data, applying weights"
   ]
  },
  {
   "cell_type": "markdown",
   "metadata": {},
   "source": [
    "#### What is the average consumption of rice (quanties) among male and female?"
   ]
  },
  {
   "cell_type": "code",
   "execution_count": 89,
   "metadata": {},
   "outputs": [
    {
     "data": {
      "text/plain": [
       "Index(['Sector', 'state', 'State_Region', 'District', 'hhdsz', 'Religion',\n",
       "       'Social_Group', 'Whether_owns_any_land', 'Land_Total_possessed',\n",
       "       'land_tt', 'MPCE_URP', 'MPCE_MRP', 'Sex', 'Age', 'Marital_Status',\n",
       "       'Education', 'ricetotal_q', 'wheattotal_q', 'cerealstt_q', 'pulsestt_q',\n",
       "       'milkprott_q', 'edibletotal_q', 'emftt_q', 'ricetotal_v',\n",
       "       'wheattotal_v', 'cerealtot_v', 'pulsestt_v', 'milkprott_v',\n",
       "       'edibletotal_v', 'emftt_v', 'fv_tot', 'state_1', 'MLT'],\n",
       "      dtype='object')"
      ]
     },
     "execution_count": 89,
     "metadata": {},
     "output_type": "execute_result"
    }
   ],
   "source": [
    "nss1.columns"
   ]
  },
  {
   "cell_type": "code",
   "execution_count": 90,
   "metadata": {},
   "outputs": [
    {
     "data": {
      "text/plain": [
       "1    89908\n",
       "2    11754\n",
       "Name: Sex, dtype: int64"
      ]
     },
     "execution_count": 90,
     "metadata": {},
     "output_type": "execute_result"
    }
   ],
   "source": [
    "nss1['Sex'].value_counts() #1- Male, 2-Female"
   ]
  },
  {
   "cell_type": "code",
   "execution_count": 91,
   "metadata": {},
   "outputs": [
    {
     "data": {
      "text/plain": [
       "Sex\n",
       "1    6.539024\n",
       "2    7.040060\n",
       "Name: ricetotal_q, dtype: float64"
      ]
     },
     "execution_count": 91,
     "metadata": {},
     "output_type": "execute_result"
    }
   ],
   "source": [
    "nss1.groupby('Sex')['ricetotal_q'].mean() # "
   ]
  },
  {
   "cell_type": "code",
   "execution_count": 92,
   "metadata": {},
   "outputs": [
    {
     "data": {
      "text/plain": [
       "6.596953106952834"
      ]
     },
     "execution_count": 92,
     "metadata": {},
     "output_type": "execute_result"
    }
   ],
   "source": [
    "nss1['ricetotal_q'].mean()"
   ]
  },
  {
   "cell_type": "code",
   "execution_count": 94,
   "metadata": {},
   "outputs": [
    {
     "data": {
      "text/plain": [
       "5.795658646288507"
      ]
     },
     "execution_count": 94,
     "metadata": {},
     "output_type": "execute_result"
    }
   ],
   "source": [
    "(nss1['ricetotal_q']*nss1['MLT']).sum()/nss1['MLT'].sum()"
   ]
  },
  {
   "cell_type": "code",
   "execution_count": 104,
   "metadata": {},
   "outputs": [],
   "source": [
    "# Define a function to compute the weighted mean\n",
    "def weighted_mean(series, weights):\n",
    "    return (series*weights).sum() / weights.sum()\n",
    "#Define a function to apply the weighted mean to a grouped data\n",
    "def apply_weighted_mean(group):\n",
    "    return pd.Series({'Weighted_MPCE':weighted_mean(group['ricetotal_q'],group['MLT'])})\n",
    "# Group by the desired colums\n",
    "grouped = nss1.groupby('Sex')\n",
    "\n",
    "#Apply the weighted mean function to each group\n",
    "weighted_mean = grouped.apply(apply_weighted_mean) "
   ]
  },
  {
   "cell_type": "code",
   "execution_count": 105,
   "metadata": {},
   "outputs": [
    {
     "data": {
      "text/html": [
       "<div>\n",
       "<style scoped>\n",
       "    .dataframe tbody tr th:only-of-type {\n",
       "        vertical-align: middle;\n",
       "    }\n",
       "\n",
       "    .dataframe tbody tr th {\n",
       "        vertical-align: top;\n",
       "    }\n",
       "\n",
       "    .dataframe thead th {\n",
       "        text-align: right;\n",
       "    }\n",
       "</style>\n",
       "<table border=\"1\" class=\"dataframe\">\n",
       "  <thead>\n",
       "    <tr style=\"text-align: right;\">\n",
       "      <th></th>\n",
       "      <th>Weighted_MPCE</th>\n",
       "    </tr>\n",
       "    <tr>\n",
       "      <th>Sex</th>\n",
       "      <th></th>\n",
       "    </tr>\n",
       "  </thead>\n",
       "  <tbody>\n",
       "    <tr>\n",
       "      <th>1</th>\n",
       "      <td>5.693113</td>\n",
       "    </tr>\n",
       "    <tr>\n",
       "      <th>2</th>\n",
       "      <td>6.549755</td>\n",
       "    </tr>\n",
       "  </tbody>\n",
       "</table>\n",
       "</div>"
      ],
      "text/plain": [
       "     Weighted_MPCE\n",
       "Sex               \n",
       "1         5.693113\n",
       "2         6.549755"
      ]
     },
     "execution_count": 105,
     "metadata": {},
     "output_type": "execute_result"
    }
   ],
   "source": [
    "weighted_mean"
   ]
  },
  {
   "cell_type": "code",
   "execution_count": null,
   "metadata": {},
   "outputs": [],
   "source": [
    "        Withoug weight        With weight\n",
    "Male    6.539024               5.69\n",
    "Female    7.040060             6.5"
   ]
  }
 ],
 "metadata": {
  "kernelspec": {
   "display_name": "Python 3",
   "language": "python",
   "name": "python3"
  },
  "language_info": {
   "codemirror_mode": {
    "name": "ipython",
    "version": 3
   },
   "file_extension": ".py",
   "mimetype": "text/x-python",
   "name": "python",
   "nbconvert_exporter": "python",
   "pygments_lexer": "ipython3",
   "version": "3.6.5"
  }
 },
 "nbformat": 4,
 "nbformat_minor": 2
}
