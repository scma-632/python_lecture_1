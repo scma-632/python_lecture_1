{
 "cells": [
  {
   "cell_type": "code",
   "execution_count": 1,
   "metadata": {},
   "outputs": [],
   "source": [
    "import pandas as pd\n",
    "import numpy as np\n",
    "import os\n",
    "import matplotlib.pyplot as plt\n",
    "import seaborn as sns"
   ]
  },
  {
   "cell_type": "code",
   "execution_count": 2,
   "metadata": {},
   "outputs": [],
   "source": [
    "os.chdir('E:\\DataScience\\datasets\\SCMA2023')"
   ]
  },
  {
   "cell_type": "code",
   "execution_count": 3,
   "metadata": {},
   "outputs": [
    {
     "name": "stderr",
     "output_type": "stream",
     "text": [
      "C:\\ProgramData\\Anaconda3\\lib\\site-packages\\IPython\\core\\interactiveshell.py:3051: DtypeWarning: Columns (1) have mixed types. Specify dtype option on import or set low_memory=False.\n",
      "  interactivity=interactivity, compiler=compiler, result=result)\n"
     ]
    }
   ],
   "source": [
    "nss = pd.read_csv('NSSO68.csv')"
   ]
  },
  {
   "cell_type": "code",
   "execution_count": 4,
   "metadata": {
    "scrolled": true
   },
   "outputs": [
    {
     "data": {
      "text/plain": [
       "['Unnamed: 0',\n",
       " 'grp',\n",
       " 'Round_Centre',\n",
       " 'FSU_number',\n",
       " 'Round',\n",
       " 'Schedule_Number',\n",
       " 'Sample',\n",
       " 'Sector',\n",
       " 'state',\n",
       " 'State_Region',\n",
       " 'District',\n",
       " 'Stratum_Number',\n",
       " 'Sub_Stratum',\n",
       " 'Schedule_type',\n",
       " 'Sub_Round',\n",
       " 'Sub_Sample',\n",
       " 'FOD_Sub_Region',\n",
       " 'Hamlet_Group_Sub_Block',\n",
       " 'Second',\n",
       " 'X_Stage_Stratum',\n",
       " 'HHS_No',\n",
       " 'Level',\n",
       " 'Filler',\n",
       " 'hhdsz',\n",
       " 'NIC_2008',\n",
       " 'NCO_2004',\n",
       " 'HH_type',\n",
       " 'Religion',\n",
       " 'Social_Group',\n",
       " 'Whether_owns_any_land',\n",
       " 'Type_of_land_owned',\n",
       " 'Land_Owned',\n",
       " 'Land_Leased_in',\n",
       " 'Otherwise_possessed',\n",
       " 'Land_Leased_out',\n",
       " 'Land_Total_possessed',\n",
       " 'During_July_June_Cultivated',\n",
       " 'During_July_June_Irrigated',\n",
       " 'NSS',\n",
       " 'NSC',\n",
       " 'MLT',\n",
       " 'land_tt',\n",
       " 'Cooking_code',\n",
       " 'Lighting_code',\n",
       " 'Dwelling_unit_code',\n",
       " 'Regular_salary_earner',\n",
       " 'Perform_Ceremony',\n",
       " 'Meals_seved_to_non_hhld_members',\n",
       " 'Possess_ration_card',\n",
       " 'Type_of_ration_card',\n",
       " 'MPCE_URP',\n",
       " 'MPCE_MRP',\n",
       " 'Person_Srl_No',\n",
       " 'Relation',\n",
       " 'Sex',\n",
       " 'Age',\n",
       " 'Marital_Status',\n",
       " 'Education',\n",
       " 'Days_Stayed_away',\n",
       " 'No_of_Meals_per_day',\n",
       " 'Meals_School',\n",
       " 'Meals_Employer',\n",
       " 'Meals_Others',\n",
       " 'Meals_Payment',\n",
       " 'Meals_At_Home',\n",
       " 'Item_Code',\n",
       " 'Source_Code',\n",
       " 'ricepds_q',\n",
       " 'riceos_q',\n",
       " 'ricetotal_q',\n",
       " 'chira_q',\n",
       " 'khoi_q',\n",
       " 'muri_q',\n",
       " 'ricepro_q',\n",
       " 'riceGT_q',\n",
       " 'Wheatpds_q',\n",
       " 'wheatos_q',\n",
       " 'wheattotal_q',\n",
       " 'maida_q',\n",
       " 'suji_q',\n",
       " 'sewai_q',\n",
       " 'bread_q',\n",
       " 'wheatp_q',\n",
       " 'wheatGT_q',\n",
       " 'jowarp_q',\n",
       " 'bajrap_q',\n",
       " 'maizep_q',\n",
       " 'barleyp_q',\n",
       " 'milletp_q',\n",
       " 'ragip_q',\n",
       " 'cerealot_q',\n",
       " 'cerealtot_q',\n",
       " 'cerealsub_q',\n",
       " 'cerealstt_q',\n",
       " 'arhar_q',\n",
       " 'gramdal_q',\n",
       " 'gramwholep_q',\n",
       " 'gramGT_q',\n",
       " 'moong_q',\n",
       " 'masur_q',\n",
       " 'urd_q',\n",
       " 'peasdal_q',\n",
       " 'khesari_q',\n",
       " 'otpulse_q',\n",
       " 'gramp_q',\n",
       " 'besan_q',\n",
       " 'pulsep_q',\n",
       " 'pulsestot_q',\n",
       " 'pulsestt_q',\n",
       " 'soyabean_q',\n",
       " 'milk_q',\n",
       " 'babyfood_q',\n",
       " 'milkcond_q',\n",
       " 'curd_q',\n",
       " 'ghee_q',\n",
       " 'butter_q',\n",
       " 'icecream_q',\n",
       " 'otmilkp_q',\n",
       " 'Milktotal_q',\n",
       " 'milkprott_q',\n",
       " 'vanas_q',\n",
       " 'musoil_q',\n",
       " 'gnoil_q',\n",
       " 'cocooil_q',\n",
       " 'edioilothr_q',\n",
       " 'edibletotal_q',\n",
       " 'ediblest_q',\n",
       " 'eggsno_q',\n",
       " 'fishprawn_q',\n",
       " 'goatmeat_q',\n",
       " 'beef_q',\n",
       " 'pork_q',\n",
       " 'chicken_q',\n",
       " 'othrbirds_q',\n",
       " 'nonvegtotal_q',\n",
       " 'emftt_q',\n",
       " 'potato_q',\n",
       " 'onion_q',\n",
       " 'tamato_q',\n",
       " 'brinjal_q',\n",
       " 'radish_q',\n",
       " 'carrot_q',\n",
       " 'palak_q',\n",
       " 'chillig_q',\n",
       " 'bhindi_q',\n",
       " 'parwal_q',\n",
       " 'cauli_q',\n",
       " 'cabbage_q',\n",
       " 'pumpkin_q',\n",
       " 'peas_q',\n",
       " 'fbeans_q',\n",
       " 'lemonno_q',\n",
       " 'otveg_q',\n",
       " 'vegtt_q',\n",
       " 'bananano_q',\n",
       " 'jackfruit_q',\n",
       " 'watermel_q',\n",
       " 'pineaplno_q',\n",
       " 'cocono_q',\n",
       " 'cocogno_q',\n",
       " 'guava_q',\n",
       " 'sighara_q',\n",
       " 'orangeno_q',\n",
       " 'papayar_q',\n",
       " 'mango_q',\n",
       " 'kharbooz_q',\n",
       " 'pears_q',\n",
       " 'berries_q',\n",
       " 'leechi_q',\n",
       " 'apple_q',\n",
       " 'grapes_q',\n",
       " 'otfruits_q',\n",
       " 'fruitstt_q',\n",
       " 'fruitt_total',\n",
       " 'cocodf_q',\n",
       " 'gnutdf_q',\n",
       " 'datesdf_q',\n",
       " 'cashewdf_q',\n",
       " 'walnutdf_q',\n",
       " 'otnutsdf_q',\n",
       " 'kishmish_q',\n",
       " 'otherdf_q',\n",
       " 'dryfruitstotal_q',\n",
       " 'dftt_q',\n",
       " 'sugarpds_q',\n",
       " 'sugaros_q',\n",
       " 'sugarst_q',\n",
       " 'gur_q',\n",
       " 'misri_q',\n",
       " 'honey_q',\n",
       " 'sugartotal_q',\n",
       " 'sugartt_q',\n",
       " 'salt_q',\n",
       " 'ginger_q',\n",
       " 'garlic_q',\n",
       " 'jeera_q',\n",
       " 'dhania_q',\n",
       " 'turnmeric_q',\n",
       " 'blackpepper_q',\n",
       " 'drychilly_q',\n",
       " 'tamarind_q',\n",
       " 'currypowder_q',\n",
       " 'oilseeds_q',\n",
       " 'spicesothr_q',\n",
       " 'spicetot_q',\n",
       " 'spicestotal_q',\n",
       " 'teacupno_q',\n",
       " 'tealeaf_q',\n",
       " 'teatotal_q',\n",
       " 'cofeeno_q',\n",
       " 'coffeepwdr_q',\n",
       " 'cofeetotal_q',\n",
       " 'ice_q',\n",
       " 'coldbvrg_q',\n",
       " 'juice_q',\n",
       " 'othrbevrg_q',\n",
       " 'bevergest_q',\n",
       " 'Biscuits_q',\n",
       " 'preparedsweet_q',\n",
       " 'pickle_q',\n",
       " 'sauce_jam_q',\n",
       " 'Othrprocessed_q',\n",
       " 'Beveragestotal_q',\n",
       " 'ricepds_v',\n",
       " 'riceos_v',\n",
       " 'ricetotal_v',\n",
       " 'chira_v',\n",
       " 'khoi_v',\n",
       " 'muri_v',\n",
       " 'ricepro_v',\n",
       " 'riceGT_v',\n",
       " 'Wheatpds_v',\n",
       " 'wheatos_v',\n",
       " 'wheattotal_v',\n",
       " 'maida_v',\n",
       " 'suji_v',\n",
       " 'sewai_v',\n",
       " 'bread_v',\n",
       " 'wheatp_v',\n",
       " 'wheatGT_v',\n",
       " 'jowarp_v',\n",
       " 'bajrap_v',\n",
       " 'maizep_v',\n",
       " 'barleyp_v',\n",
       " 'milletp_v',\n",
       " 'ragip_v',\n",
       " 'cerealot_v',\n",
       " 'cerealtot_v',\n",
       " 'cerealsub_v',\n",
       " 'cerealstt_v',\n",
       " 'arhar_v',\n",
       " 'gramdal_v',\n",
       " 'gramwholep_v',\n",
       " 'gramGT_v',\n",
       " 'moong_v',\n",
       " 'masur_v',\n",
       " 'urd_v',\n",
       " 'peasdal_v',\n",
       " 'khesari_v',\n",
       " 'otpulse_v',\n",
       " 'gramp_v',\n",
       " 'besan_v',\n",
       " 'pulsep_v',\n",
       " 'pulsestot_v',\n",
       " 'pulsestt_v',\n",
       " 'soyabean_v',\n",
       " 'milk_v',\n",
       " 'babyfood_v',\n",
       " 'milkcond_v',\n",
       " 'curd_v',\n",
       " 'ghee_v',\n",
       " 'butter_v',\n",
       " 'icecream_v',\n",
       " 'otmilkp_v',\n",
       " 'Milktotal_v',\n",
       " 'milkprott_v',\n",
       " 'vanas_v',\n",
       " 'musoil_v',\n",
       " 'gnoil_v',\n",
       " 'cocooil_v',\n",
       " 'edioilothr_v',\n",
       " 'edibletotal_v',\n",
       " 'ediblest_v',\n",
       " 'eggsno_v',\n",
       " 'fishprawn_v',\n",
       " 'goatmeat_v',\n",
       " 'beef_v',\n",
       " 'pork_v',\n",
       " 'chicken_v',\n",
       " 'othrbirds_v',\n",
       " 'nonvegtotal_v',\n",
       " 'emftt_v',\n",
       " 'potato_v',\n",
       " 'onion_v',\n",
       " 'tamato_v',\n",
       " 'brinjal_v',\n",
       " 'radish_v',\n",
       " 'carrot_v',\n",
       " 'palak_v',\n",
       " 'chillig_v',\n",
       " 'bhindi_v',\n",
       " 'parwal_v',\n",
       " 'cauli_v',\n",
       " 'cabbage_v',\n",
       " 'pumpkin_v',\n",
       " 'peas_v',\n",
       " 'fbeans_v',\n",
       " 'lemonno_v',\n",
       " 'otveg_v',\n",
       " 'vegtt_v',\n",
       " 'bananano_v',\n",
       " 'jackfruit_v',\n",
       " 'watermel_v',\n",
       " 'pineaplno_v',\n",
       " 'cocono_v',\n",
       " 'cocogno_v',\n",
       " 'guava_v',\n",
       " 'sighara_v',\n",
       " 'orangeno_v',\n",
       " 'papayar_v',\n",
       " 'mango_v',\n",
       " 'kharbooz_v',\n",
       " 'pears_v',\n",
       " 'berries_v',\n",
       " 'leechi_v',\n",
       " 'apple_v',\n",
       " 'grapes_v',\n",
       " 'otfruits_v',\n",
       " 'fruitstt_v',\n",
       " 'cocodf_v',\n",
       " 'gnutdf_v',\n",
       " 'datesdf_v',\n",
       " 'cashewdf_v',\n",
       " 'walnutdf_v',\n",
       " 'otnutsdf_v',\n",
       " 'kishmish_v',\n",
       " 'otherdf_v',\n",
       " 'dryfruitstotal_v',\n",
       " 'dftt_v',\n",
       " 'sugarpds_v',\n",
       " 'sugaros_v',\n",
       " 'sugarst_v',\n",
       " 'gur_v',\n",
       " 'misri_v',\n",
       " 'honey_v',\n",
       " 'sugartotal_v',\n",
       " 'sugartt_v',\n",
       " 'salt_v',\n",
       " 'ginger_v',\n",
       " 'garlic_v',\n",
       " 'jeera_v',\n",
       " 'dhania_v',\n",
       " 'turnmeric_v',\n",
       " 'blackpepper_v',\n",
       " 'drychilly_v',\n",
       " 'tamarind_v',\n",
       " 'currypowder_v',\n",
       " 'oilseeds_v',\n",
       " 'spicesothr_v',\n",
       " 'spicetot_v',\n",
       " 'spicestotal_v',\n",
       " 'teacupno_v',\n",
       " 'tealeaf_v',\n",
       " 'teatotal_v',\n",
       " 'cofeeno_v',\n",
       " 'coffeepwdr_v',\n",
       " 'cofeetotal_v',\n",
       " 'ice_v',\n",
       " 'coldbvrg_v',\n",
       " 'juice_v',\n",
       " 'othrbevrg_v',\n",
       " 'bevergest_v',\n",
       " 'Biscuits_v',\n",
       " 'preparedsweet_v',\n",
       " 'pickle_v',\n",
       " 'sauce_jam_v',\n",
       " 'Othrprocessed_v',\n",
       " 'Beveragestotal_v',\n",
       " 'foodtotal_v',\n",
       " 'foodtotal_q',\n",
       " 'state_1',\n",
       " 'Region',\n",
       " 'fruits_df_tt_v',\n",
       " 'fv_tot']"
      ]
     },
     "execution_count": 4,
     "metadata": {},
     "output_type": "execute_result"
    }
   ],
   "source": [
    "list(nss)"
   ]
  },
  {
   "cell_type": "code",
   "execution_count": 5,
   "metadata": {
    "collapsed": true
   },
   "outputs": [
    {
     "data": {
      "image/png": "[encoded data removed]",
      "text/plain": [
       "<Figure size 432x288 with 1 Axes>"
      ]
     },
     "metadata": {
      "needs_background": "light"
     },
     "output_type": "display_data"
    }
   ],
   "source": [
    "plt.plot(nss['MPCE_MRP']);"
   ]
  },
  {
   "cell_type": "code",
   "execution_count": 6,
   "metadata": {
    "collapsed": true
   },
   "outputs": [
    {
     "data": {
      "image/png": "[encoded data removed]",
      "text/plain": [
       "<Figure size 432x288 with 1 Axes>"
      ]
     },
     "metadata": {
      "needs_background": "light"
     },
     "output_type": "display_data"
    }
   ],
   "source": [
    "plt.plot(nss['MPCE_MRP']);\n",
    "plt.axhline(nss['MPCE_MRP'].mean());"
   ]
  },
  {
   "cell_type": "code",
   "execution_count": 7,
   "metadata": {
    "collapsed": true
   },
   "outputs": [
    {
     "data": {
      "image/png": "[encoded data removed]",
      "text/plain": [
       "<Figure size 432x288 with 1 Axes>"
      ]
     },
     "metadata": {
      "needs_background": "light"
     },
     "output_type": "display_data"
    }
   ],
   "source": [
    "plt.plot(nss['MPCE_MRP']);\n",
    "plt.axhline(nss['MPCE_MRP'].mean(), color='r');"
   ]
  },
  {
   "cell_type": "code",
   "execution_count": 8,
   "metadata": {
    "collapsed": true
   },
   "outputs": [
    {
     "data": {
      "image/png": "[encoded data removed]",
      "text/plain": [
       "<Figure size 432x288 with 1 Axes>"
      ]
     },
     "metadata": {
      "needs_background": "light"
     },
     "output_type": "display_data"
    }
   ],
   "source": [
    "plt.plot(nss['MPCE_MRP']);\n",
    "plt.axhline(nss['MPCE_MRP'].median(), color='r');"
   ]
  },
  {
   "cell_type": "code",
   "execution_count": 10,
   "metadata": {},
   "outputs": [
    {
     "name": "stdout",
     "output_type": "stream",
     "text": [
      "Median Expenditure 1533.87\n",
      "Mean Expenditure 2078.751228974444\n"
     ]
    }
   ],
   "source": [
    "print('Median Expenditure', nss['MPCE_MRP'].median())\n",
    "print('Mean Expenditure', nss['MPCE_MRP'].mean())"
   ]
  },
  {
   "cell_type": "code",
   "execution_count": 11,
   "metadata": {
    "collapsed": true
   },
   "outputs": [
    {
     "data": {
      "image/png": "[encoded data removed]",
      "text/plain": [
       "<Figure size 432x288 with 1 Axes>"
      ]
     },
     "metadata": {
      "needs_background": "light"
     },
     "output_type": "display_data"
    }
   ],
   "source": [
    "plt.plot(nss['MPCE_MRP']);\n",
    "plt.axhline(nss['MPCE_MRP'].median(), color='r', lw=3);"
   ]
  },
  {
   "cell_type": "code",
   "execution_count": 12,
   "metadata": {},
   "outputs": [
    {
     "data": {
      "text/plain": [
       "Int64Index([10463, 27401, 28788, 31756, 59539, 62189, 64995, 65231, 65382], dtype='int64')"
      ]
     },
     "execution_count": 12,
     "metadata": {},
     "output_type": "execute_result"
    }
   ],
   "source": [
    "nss[nss['MPCE_MRP'] > 60000].index"
   ]
  },
  {
   "cell_type": "code",
   "execution_count": 13,
   "metadata": {},
   "outputs": [],
   "source": [
    "nss.drop(nss[nss['MPCE_MRP'] > 60000].index, inplace=True)"
   ]
  },
  {
   "cell_type": "code",
   "execution_count": 14,
   "metadata": {
    "collapsed": true
   },
   "outputs": [
    {
     "data": {
      "image/png": "[encoded data removed]",
      "text/plain": [
       "<Figure size 432x288 with 1 Axes>"
      ]
     },
     "metadata": {
      "needs_background": "light"
     },
     "output_type": "display_data"
    }
   ],
   "source": [
    "plt.plot(nss['MPCE_MRP']);\n",
    "plt.axhline(nss['MPCE_MRP'].median(), color='r', lw=3);"
   ]
  },
  {
   "cell_type": "code",
   "execution_count": 16,
   "metadata": {},
   "outputs": [
    {
     "data": {
      "text/plain": [
       "count    101653.000000\n",
       "mean       2072.529763\n",
       "std        1999.159549\n",
       "min          44.110000\n",
       "25%        1054.240000\n",
       "50%        1533.760000\n",
       "75%        2400.960000\n",
       "max       59818.320000\n",
       "Name: MPCE_MRP, dtype: float64"
      ]
     },
     "execution_count": 16,
     "metadata": {},
     "output_type": "execute_result"
    }
   ],
   "source": [
    "nss['MPCE_MRP'].describe()"
   ]
  },
  {
   "cell_type": "code",
   "execution_count": null,
   "metadata": {},
   "outputs": [],
   "source": [
    "Very_low : < 1000\n",
    "low: 1000 - 2000\n",
    "medium: 2000 - 25,000\n",
    "high: > 25,000"
   ]
  },
  {
   "cell_type": "code",
   "execution_count": 17,
   "metadata": {},
   "outputs": [],
   "source": [
    "def bucket (x):\n",
    "    if x < 1000:\n",
    "        return 'Very Low'\n",
    "    if x < 2000:\n",
    "        return 'Low'\n",
    "    if x < 25000:\n",
    "        return 'Medium'\n",
    "    else:\n",
    "        return 'High'"
   ]
  },
  {
   "cell_type": "code",
   "execution_count": 18,
   "metadata": {},
   "outputs": [],
   "source": [
    "nss['Income_cat']  = nss['MPCE_MRP'].apply(bucket)"
   ]
  },
  {
   "cell_type": "code",
   "execution_count": 19,
   "metadata": {
    "scrolled": true
   },
   "outputs": [
    {
     "data": {
      "text/plain": [
       "Low         45048\n",
       "Medium      34348\n",
       "Very Low    22181\n",
       "High           76\n",
       "Name: Income_cat, dtype: int64"
      ]
     },
     "execution_count": 19,
     "metadata": {},
     "output_type": "execute_result"
    }
   ],
   "source": [
    "nss['Income_cat'].value_counts()"
   ]
  },
  {
   "cell_type": "code",
   "execution_count": 20,
   "metadata": {},
   "outputs": [],
   "source": [
    "income = pd.DataFrame(nss['Income_cat'].value_counts())"
   ]
  },
  {
   "cell_type": "code",
   "execution_count": 21,
   "metadata": {},
   "outputs": [
    {
     "data": {
      "text/html": [
       "<div>\n",
       "<style scoped>\n",
       "    .dataframe tbody tr th:only-of-type {\n",
       "        vertical-align: middle;\n",
       "    }\n",
       "\n",
       "    .dataframe tbody tr th {\n",
       "        vertical-align: top;\n",
       "    }\n",
       "\n",
       "    .dataframe thead th {\n",
       "        text-align: right;\n",
       "    }\n",
       "</style>\n",
       "<table border=\"1\" class=\"dataframe\">\n",
       "  <thead>\n",
       "    <tr style=\"text-align: right;\">\n",
       "      <th></th>\n",
       "      <th>Income_cat</th>\n",
       "    </tr>\n",
       "  </thead>\n",
       "  <tbody>\n",
       "    <tr>\n",
       "      <th>Low</th>\n",
       "      <td>45048</td>\n",
       "    </tr>\n",
       "    <tr>\n",
       "      <th>Medium</th>\n",
       "      <td>34348</td>\n",
       "    </tr>\n",
       "    <tr>\n",
       "      <th>Very Low</th>\n",
       "      <td>22181</td>\n",
       "    </tr>\n",
       "    <tr>\n",
       "      <th>High</th>\n",
       "      <td>76</td>\n",
       "    </tr>\n",
       "  </tbody>\n",
       "</table>\n",
       "</div>"
      ],
      "text/plain": [
       "          Income_cat\n",
       "Low            45048\n",
       "Medium         34348\n",
       "Very Low       22181\n",
       "High              76"
      ]
     },
     "execution_count": 21,
     "metadata": {},
     "output_type": "execute_result"
    }
   ],
   "source": [
    "income"
   ]
  },
  {
   "cell_type": "code",
   "execution_count": 23,
   "metadata": {
    "collapsed": true
   },
   "outputs": [
    {
     "data": {
      "image/png": "[encoded data removed]",
      "text/plain": [
       "<Figure size 432x288 with 1 Axes>"
      ]
     },
     "metadata": {
      "needs_background": "light"
     },
     "output_type": "display_data"
    }
   ],
   "source": [
    "plt.bar(income.index, income.Income_cat);"
   ]
  },
  {
   "cell_type": "markdown",
   "metadata": {},
   "source": [
    "### To visualise the no. of households below and above mean expenditure"
   ]
  },
  {
   "cell_type": "code",
   "execution_count": 24,
   "metadata": {},
   "outputs": [
    {
     "data": {
      "text/plain": [
       "2072.52976291895"
      ]
     },
     "execution_count": 24,
     "metadata": {},
     "output_type": "execute_result"
    }
   ],
   "source": [
    "nss['MPCE_MRP'].mean()"
   ]
  },
  {
   "cell_type": "code",
   "execution_count": 26,
   "metadata": {},
   "outputs": [],
   "source": [
    "def bucket1(x):\n",
    "    if x < 2072:\n",
    "        return 'Below Mean'\n",
    "    else:\n",
    "        return 'Above Mean'\n",
    "nss['income_cat2'] = nss['MPCE_MRP'].apply(bucket1)"
   ]
  },
  {
   "cell_type": "code",
   "execution_count": 27,
   "metadata": {},
   "outputs": [
    {
     "data": {
      "text/plain": [
       "Below Mean    69093\n",
       "Above Mean    32560\n",
       "Name: income_cat2, dtype: int64"
      ]
     },
     "execution_count": 27,
     "metadata": {},
     "output_type": "execute_result"
    }
   ],
   "source": [
    "nss['income_cat2'].value_counts()"
   ]
  },
  {
   "cell_type": "code",
   "execution_count": 28,
   "metadata": {},
   "outputs": [],
   "source": [
    "income2 = pd.DataFrame(nss['income_cat2'].value_counts())"
   ]
  },
  {
   "cell_type": "code",
   "execution_count": 29,
   "metadata": {},
   "outputs": [
    {
     "data": {
      "text/html": [
       "<div>\n",
       "<style scoped>\n",
       "    .dataframe tbody tr th:only-of-type {\n",
       "        vertical-align: middle;\n",
       "    }\n",
       "\n",
       "    .dataframe tbody tr th {\n",
       "        vertical-align: top;\n",
       "    }\n",
       "\n",
       "    .dataframe thead th {\n",
       "        text-align: right;\n",
       "    }\n",
       "</style>\n",
       "<table border=\"1\" class=\"dataframe\">\n",
       "  <thead>\n",
       "    <tr style=\"text-align: right;\">\n",
       "      <th></th>\n",
       "      <th>income_cat2</th>\n",
       "    </tr>\n",
       "  </thead>\n",
       "  <tbody>\n",
       "    <tr>\n",
       "      <th>Below Mean</th>\n",
       "      <td>69093</td>\n",
       "    </tr>\n",
       "    <tr>\n",
       "      <th>Above Mean</th>\n",
       "      <td>32560</td>\n",
       "    </tr>\n",
       "  </tbody>\n",
       "</table>\n",
       "</div>"
      ],
      "text/plain": [
       "            income_cat2\n",
       "Below Mean        69093\n",
       "Above Mean        32560"
      ]
     },
     "execution_count": 29,
     "metadata": {},
     "output_type": "execute_result"
    }
   ],
   "source": [
    "income2"
   ]
  },
  {
   "cell_type": "code",
   "execution_count": 32,
   "metadata": {
    "collapsed": true
   },
   "outputs": [
    {
     "data": {
      "image/png": "[encoded data removed]",
      "text/plain": [
       "<Figure size 432x288 with 1 Axes>"
      ]
     },
     "metadata": {
      "needs_background": "light"
     },
     "output_type": "display_data"
    }
   ],
   "source": [
    "plt.bar(income2.index, income2.income_cat2);"
   ]
  },
  {
   "cell_type": "markdown",
   "metadata": {},
   "source": [
    "### Plot the expenditure across different religion"
   ]
  },
  {
   "cell_type": "code",
   "execution_count": 33,
   "metadata": {},
   "outputs": [],
   "source": [
    "def recodes (val):\n",
    "    if val ==1:\n",
    "        return 'Hindu'\n",
    "    elif val ==2:\n",
    "        return 'Islam'\n",
    "    elif val == 3:\n",
    "        return 'Christ'\n",
    "    elif val == 4:\n",
    "        return 'Sikh'\n",
    "    elif val == 5:\n",
    "        return 'Jain'\n",
    "    elif val == 6:\n",
    "        return 'Budh'\n",
    "    else:\n",
    "        return 'Others'"
   ]
  },
  {
   "cell_type": "code",
   "execution_count": 34,
   "metadata": {},
   "outputs": [],
   "source": [
    "nss['Rel_Cat'] = nss['Religion'].apply(recodes)"
   ]
  },
  {
   "cell_type": "code",
   "execution_count": 36,
   "metadata": {},
   "outputs": [
    {
     "data": {
      "text/html": [
       "<div>\n",
       "<style scoped>\n",
       "    .dataframe tbody tr th:only-of-type {\n",
       "        vertical-align: middle;\n",
       "    }\n",
       "\n",
       "    .dataframe tbody tr th {\n",
       "        vertical-align: top;\n",
       "    }\n",
       "\n",
       "    .dataframe thead th {\n",
       "        text-align: right;\n",
       "    }\n",
       "</style>\n",
       "<table border=\"1\" class=\"dataframe\">\n",
       "  <thead>\n",
       "    <tr style=\"text-align: right;\">\n",
       "      <th></th>\n",
       "      <th>MPCE_MRP</th>\n",
       "    </tr>\n",
       "    <tr>\n",
       "      <th>Rel_Cat</th>\n",
       "      <th></th>\n",
       "    </tr>\n",
       "  </thead>\n",
       "  <tbody>\n",
       "    <tr>\n",
       "      <th>Budh</th>\n",
       "      <td>2045.805494</td>\n",
       "    </tr>\n",
       "    <tr>\n",
       "      <th>Christ</th>\n",
       "      <td>2350.326218</td>\n",
       "    </tr>\n",
       "    <tr>\n",
       "      <th>Hindu</th>\n",
       "      <td>2066.479048</td>\n",
       "    </tr>\n",
       "    <tr>\n",
       "      <th>Islam</th>\n",
       "      <td>1806.591609</td>\n",
       "    </tr>\n",
       "    <tr>\n",
       "      <th>Jain</th>\n",
       "      <td>3581.442826</td>\n",
       "    </tr>\n",
       "    <tr>\n",
       "      <th>Others</th>\n",
       "      <td>1993.412997</td>\n",
       "    </tr>\n",
       "    <tr>\n",
       "      <th>Sikh</th>\n",
       "      <td>2873.630903</td>\n",
       "    </tr>\n",
       "  </tbody>\n",
       "</table>\n",
       "</div>"
      ],
      "text/plain": [
       "            MPCE_MRP\n",
       "Rel_Cat             \n",
       "Budh     2045.805494\n",
       "Christ   2350.326218\n",
       "Hindu    2066.479048\n",
       "Islam    1806.591609\n",
       "Jain     3581.442826\n",
       "Others   1993.412997\n",
       "Sikh     2873.630903"
      ]
     },
     "execution_count": 36,
     "metadata": {},
     "output_type": "execute_result"
    }
   ],
   "source": [
    "nss.groupby('Rel_Cat')[['MPCE_MRP']].mean()"
   ]
  },
  {
   "cell_type": "code",
   "execution_count": 37,
   "metadata": {},
   "outputs": [],
   "source": [
    "income_R =  nss.groupby('Rel_Cat')[['MPCE_MRP']].mean()"
   ]
  },
  {
   "cell_type": "code",
   "execution_count": 38,
   "metadata": {},
   "outputs": [
    {
     "data": {
      "image/png": "[encoded data removed]",
      "text/plain": [
       "<Figure size 432x288 with 1 Axes>"
      ]
     },
     "metadata": {
      "needs_background": "light"
     },
     "output_type": "display_data"
    }
   ],
   "source": [
    "plt.bar(income_R.index, income_R.MPCE_MRP);"
   ]
  },
  {
   "cell_type": "code",
   "execution_count": 39,
   "metadata": {},
   "outputs": [],
   "source": [
    "income_R.sort_values('MPCE_MRP', inplace=True)"
   ]
  },
  {
   "cell_type": "code",
   "execution_count": 40,
   "metadata": {},
   "outputs": [
    {
     "data": {
      "image/png": "[encoded data removed]",
      "text/plain": [
       "<Figure size 432x288 with 1 Axes>"
      ]
     },
     "metadata": {
      "needs_background": "light"
     },
     "output_type": "display_data"
    }
   ],
   "source": [
    "plt.bar(income_R.index, income_R.MPCE_MRP);"
   ]
  },
  {
   "cell_type": "code",
   "execution_count": 43,
   "metadata": {},
   "outputs": [],
   "source": [
    "def bucket3(val):\n",
    "    if val == 1:\n",
    "        return 'Male'\n",
    "    else: \n",
    "        return 'Female'"
   ]
  },
  {
   "cell_type": "code",
   "execution_count": 44,
   "metadata": {
    "scrolled": true
   },
   "outputs": [],
   "source": [
    "nss['Gender'] = nss['Sex'].apply(bucket3)"
   ]
  },
  {
   "cell_type": "code",
   "execution_count": 45,
   "metadata": {},
   "outputs": [
    {
     "data": {
      "text/plain": [
       "Male      89899\n",
       "Female    11754\n",
       "Name: Gender, dtype: int64"
      ]
     },
     "execution_count": 45,
     "metadata": {},
     "output_type": "execute_result"
    }
   ],
   "source": [
    "nss['Gender'].value_counts()"
   ]
  },
  {
   "cell_type": "code",
   "execution_count": 46,
   "metadata": {
    "collapsed": true
   },
   "outputs": [
    {
     "data": {
      "text/html": [
       "<div>\n",
       "<style scoped>\n",
       "    .dataframe tbody tr th:only-of-type {\n",
       "        vertical-align: middle;\n",
       "    }\n",
       "\n",
       "    .dataframe tbody tr th {\n",
       "        vertical-align: top;\n",
       "    }\n",
       "\n",
       "    .dataframe thead th {\n",
       "        text-align: right;\n",
       "    }\n",
       "</style>\n",
       "<table border=\"1\" class=\"dataframe\">\n",
       "  <thead>\n",
       "    <tr style=\"text-align: right;\">\n",
       "      <th></th>\n",
       "      <th></th>\n",
       "      <th>MPCE_MRP</th>\n",
       "    </tr>\n",
       "    <tr>\n",
       "      <th>Rel_Cat</th>\n",
       "      <th>Gender</th>\n",
       "      <th></th>\n",
       "    </tr>\n",
       "  </thead>\n",
       "  <tbody>\n",
       "    <tr>\n",
       "      <th rowspan=\"2\" valign=\"top\">Budh</th>\n",
       "      <th>Female</th>\n",
       "      <td>2377.783000</td>\n",
       "    </tr>\n",
       "    <tr>\n",
       "      <th>Male</th>\n",
       "      <td>2004.904774</td>\n",
       "    </tr>\n",
       "    <tr>\n",
       "      <th rowspan=\"2\" valign=\"top\">Christ</th>\n",
       "      <th>Female</th>\n",
       "      <td>2862.555005</td>\n",
       "    </tr>\n",
       "    <tr>\n",
       "      <th>Male</th>\n",
       "      <td>2273.962408</td>\n",
       "    </tr>\n",
       "    <tr>\n",
       "      <th rowspan=\"2\" valign=\"top\">Hindu</th>\n",
       "      <th>Female</th>\n",
       "      <td>2163.516064</td>\n",
       "    </tr>\n",
       "    <tr>\n",
       "      <th>Male</th>\n",
       "      <td>2053.976806</td>\n",
       "    </tr>\n",
       "    <tr>\n",
       "      <th rowspan=\"2\" valign=\"top\">Islam</th>\n",
       "      <th>Female</th>\n",
       "      <td>1958.344105</td>\n",
       "    </tr>\n",
       "    <tr>\n",
       "      <th>Male</th>\n",
       "      <td>1786.078134</td>\n",
       "    </tr>\n",
       "    <tr>\n",
       "      <th rowspan=\"2\" valign=\"top\">Jain</th>\n",
       "      <th>Female</th>\n",
       "      <td>3161.942400</td>\n",
       "    </tr>\n",
       "    <tr>\n",
       "      <th>Male</th>\n",
       "      <td>3616.754310</td>\n",
       "    </tr>\n",
       "    <tr>\n",
       "      <th rowspan=\"2\" valign=\"top\">Others</th>\n",
       "      <th>Female</th>\n",
       "      <td>2201.591500</td>\n",
       "    </tr>\n",
       "    <tr>\n",
       "      <th>Male</th>\n",
       "      <td>1963.708573</td>\n",
       "    </tr>\n",
       "    <tr>\n",
       "      <th rowspan=\"2\" valign=\"top\">Sikh</th>\n",
       "      <th>Female</th>\n",
       "      <td>2991.586620</td>\n",
       "    </tr>\n",
       "    <tr>\n",
       "      <th>Male</th>\n",
       "      <td>2859.696034</td>\n",
       "    </tr>\n",
       "  </tbody>\n",
       "</table>\n",
       "</div>"
      ],
      "text/plain": [
       "                   MPCE_MRP\n",
       "Rel_Cat Gender             \n",
       "Budh    Female  2377.783000\n",
       "        Male    2004.904774\n",
       "Christ  Female  2862.555005\n",
       "        Male    2273.962408\n",
       "Hindu   Female  2163.516064\n",
       "        Male    2053.976806\n",
       "Islam   Female  1958.344105\n",
       "        Male    1786.078134\n",
       "Jain    Female  3161.942400\n",
       "        Male    3616.754310\n",
       "Others  Female  2201.591500\n",
       "        Male    1963.708573\n",
       "Sikh    Female  2991.586620\n",
       "        Male    2859.696034"
      ]
     },
     "execution_count": 46,
     "metadata": {},
     "output_type": "execute_result"
    }
   ],
   "source": [
    "nss.groupby(['Rel_Cat','Gender'])[['MPCE_MRP']].mean()"
   ]
  },
  {
   "cell_type": "code",
   "execution_count": 51,
   "metadata": {},
   "outputs": [],
   "source": [
    "income_RG = pd.pivot_table(data=nss, values='MPCE_MRP', index='Rel_Cat',columns='Gender', aggfunc='mean')"
   ]
  },
  {
   "cell_type": "code",
   "execution_count": 52,
   "metadata": {
    "collapsed": true
   },
   "outputs": [
    {
     "data": {
      "text/html": [
       "<div>\n",
       "<style scoped>\n",
       "    .dataframe tbody tr th:only-of-type {\n",
       "        vertical-align: middle;\n",
       "    }\n",
       "\n",
       "    .dataframe tbody tr th {\n",
       "        vertical-align: top;\n",
       "    }\n",
       "\n",
       "    .dataframe thead th {\n",
       "        text-align: right;\n",
       "    }\n",
       "</style>\n",
       "<table border=\"1\" class=\"dataframe\">\n",
       "  <thead>\n",
       "    <tr style=\"text-align: right;\">\n",
       "      <th>Gender</th>\n",
       "      <th>Female</th>\n",
       "      <th>Male</th>\n",
       "    </tr>\n",
       "    <tr>\n",
       "      <th>Rel_Cat</th>\n",
       "      <th></th>\n",
       "      <th></th>\n",
       "    </tr>\n",
       "  </thead>\n",
       "  <tbody>\n",
       "    <tr>\n",
       "      <th>Budh</th>\n",
       "      <td>2377.783000</td>\n",
       "      <td>2004.904774</td>\n",
       "    </tr>\n",
       "    <tr>\n",
       "      <th>Christ</th>\n",
       "      <td>2862.555005</td>\n",
       "      <td>2273.962408</td>\n",
       "    </tr>\n",
       "    <tr>\n",
       "      <th>Hindu</th>\n",
       "      <td>2163.516064</td>\n",
       "      <td>2053.976806</td>\n",
       "    </tr>\n",
       "    <tr>\n",
       "      <th>Islam</th>\n",
       "      <td>1958.344105</td>\n",
       "      <td>1786.078134</td>\n",
       "    </tr>\n",
       "    <tr>\n",
       "      <th>Jain</th>\n",
       "      <td>3161.942400</td>\n",
       "      <td>3616.754310</td>\n",
       "    </tr>\n",
       "  </tbody>\n",
       "</table>\n",
       "</div>"
      ],
      "text/plain": [
       "Gender        Female         Male\n",
       "Rel_Cat                          \n",
       "Budh     2377.783000  2004.904774\n",
       "Christ   2862.555005  2273.962408\n",
       "Hindu    2163.516064  2053.976806\n",
       "Islam    1958.344105  1786.078134\n",
       "Jain     3161.942400  3616.754310"
      ]
     },
     "execution_count": 52,
     "metadata": {},
     "output_type": "execute_result"
    }
   ],
   "source": [
    "income_RG.head()"
   ]
  },
  {
   "cell_type": "code",
   "execution_count": 62,
   "metadata": {
    "collapsed": true
   },
   "outputs": [
    {
     "data": {
      "image/png": "[encoded data removed]",
      "text/plain": [
       "<Figure size 432x288 with 1 Axes>"
      ]
     },
     "metadata": {
      "needs_background": "light"
     },
     "output_type": "display_data"
    }
   ],
   "source": [
    "x_axis = np.arange(len(income_RG.index))\n",
    "plt.bar(x_axis -0.2, income_RG.Female, 0.4, label='Female');\n",
    "plt.bar(x_axis +0.2, income_RG.Male, 0.4, label='Male');\n",
    "plt.xticks(x_axis, income_RG.index);\n",
    "plt.title('Expenditure across Religion and Gender');\n",
    "plt.xlabel('Religion')\n",
    "plt.ylabel('Expenditure')\n",
    "plt.legend();"
   ]
  },
  {
   "cell_type": "code",
   "execution_count": 64,
   "metadata": {},
   "outputs": [
    {
     "data": {
      "image/png": "[encoded data removed]",
      "text/plain": [
       "<Figure size 432x288 with 1 Axes>"
      ]
     },
     "metadata": {
      "needs_background": "light"
     },
     "output_type": "display_data"
    }
   ],
   "source": [
    "sns.barplot(income_R.index, income_R.MPCE_MRP);"
   ]
  },
  {
   "cell_type": "code",
   "execution_count": 66,
   "metadata": {},
   "outputs": [],
   "source": [
    "incomeR1 = nss.groupby(['Rel_Cat','Gender'])[['MPCE_MRP']].mean()"
   ]
  },
  {
   "cell_type": "code",
   "execution_count": 68,
   "metadata": {},
   "outputs": [],
   "source": [
    "incomeR1.reset_index(inplace=True)"
   ]
  },
  {
   "cell_type": "code",
   "execution_count": 70,
   "metadata": {},
   "outputs": [
    {
     "data": {
      "text/html": [
       "<div>\n",
       "<style scoped>\n",
       "    .dataframe tbody tr th:only-of-type {\n",
       "        vertical-align: middle;\n",
       "    }\n",
       "\n",
       "    .dataframe tbody tr th {\n",
       "        vertical-align: top;\n",
       "    }\n",
       "\n",
       "    .dataframe thead th {\n",
       "        text-align: right;\n",
       "    }\n",
       "</style>\n",
       "<table border=\"1\" class=\"dataframe\">\n",
       "  <thead>\n",
       "    <tr style=\"text-align: right;\">\n",
       "      <th></th>\n",
       "      <th>Rel_Cat</th>\n",
       "      <th>Gender</th>\n",
       "      <th>MPCE_MRP</th>\n",
       "    </tr>\n",
       "  </thead>\n",
       "  <tbody>\n",
       "    <tr>\n",
       "      <th>0</th>\n",
       "      <td>Budh</td>\n",
       "      <td>Female</td>\n",
       "      <td>2377.783000</td>\n",
       "    </tr>\n",
       "    <tr>\n",
       "      <th>1</th>\n",
       "      <td>Budh</td>\n",
       "      <td>Male</td>\n",
       "      <td>2004.904774</td>\n",
       "    </tr>\n",
       "  </tbody>\n",
       "</table>\n",
       "</div>"
      ],
      "text/plain": [
       "  Rel_Cat  Gender     MPCE_MRP\n",
       "0    Budh  Female  2377.783000\n",
       "1    Budh    Male  2004.904774"
      ]
     },
     "execution_count": 70,
     "metadata": {},
     "output_type": "execute_result"
    }
   ],
   "source": [
    "incomeR1.head(2)"
   ]
  },
  {
   "cell_type": "code",
   "execution_count": 72,
   "metadata": {},
   "outputs": [
    {
     "data": {
      "image/png": "[encoded data removed]",
      "text/plain": [
       "<Figure size 432x288 with 1 Axes>"
      ]
     },
     "metadata": {
      "needs_background": "light"
     },
     "output_type": "display_data"
    }
   ],
   "source": [
    "sns.barplot(incomeR1.Rel_Cat, incomeR1.MPCE_MRP);"
   ]
  },
  {
   "cell_type": "code",
   "execution_count": 73,
   "metadata": {
    "collapsed": true
   },
   "outputs": [
    {
     "data": {
      "image/png": "[encoded data removed]",
      "text/plain": [
       "<Figure size 432x288 with 1 Axes>"
      ]
     },
     "metadata": {
      "needs_background": "light"
     },
     "output_type": "display_data"
    }
   ],
   "source": [
    "sns.barplot(incomeR1.Rel_Cat, incomeR1.MPCE_MRP, hue=incomeR1.Gender);"
   ]
  },
  {
   "cell_type": "code",
   "execution_count": 75,
   "metadata": {},
   "outputs": [
    {
     "data": {
      "image/png": "[encoded data removed]",
      "text/plain": [
       "<Figure size 432x288 with 1 Axes>"
      ]
     },
     "metadata": {
      "needs_background": "light"
     },
     "output_type": "display_data"
    }
   ],
   "source": [
    "sns.barplot(data=nss, x='Rel_Cat', y='MPCE_MRP', estimator = np.mean);"
   ]
  },
  {
   "cell_type": "code",
   "execution_count": 76,
   "metadata": {},
   "outputs": [
    {
     "data": {
      "image/png": "[encoded data removed]",
      "text/plain": [
       "<Figure size 432x288 with 1 Axes>"
      ]
     },
     "metadata": {
      "needs_background": "light"
     },
     "output_type": "display_data"
    }
   ],
   "source": [
    "sns.barplot(data=nss, x='Rel_Cat', y='MPCE_MRP',hue='Gender', estimator = np.mean);"
   ]
  },
  {
   "cell_type": "code",
   "execution_count": 78,
   "metadata": {},
   "outputs": [
    {
     "data": {
      "image/png": "[encoded data removed]",
      "text/plain": [
       "<Figure size 360x360 with 1 Axes>"
      ]
     },
     "metadata": {
      "needs_background": "light"
     },
     "output_type": "display_data"
    }
   ],
   "source": [
    "sns.catplot(data=nss,x='Rel_Cat', y='MPCE_MRP' );"
   ]
  },
  {
   "cell_type": "code",
   "execution_count": 79,
   "metadata": {},
   "outputs": [
    {
     "data": {
      "image/png": "[encoded data removed]",
      "text/plain": [
       "<Figure size 432.625x360 with 1 Axes>"
      ]
     },
     "metadata": {
      "needs_background": "light"
     },
     "output_type": "display_data"
    }
   ],
   "source": [
    "sns.catplot(data=nss,x='Rel_Cat', y='MPCE_MRP' , hue='Gender');"
   ]
  },
  {
   "cell_type": "code",
   "execution_count": 80,
   "metadata": {},
   "outputs": [
    {
     "data": {
      "image/png": "[encoded data removed]",
      "text/plain": [
       "<Figure size 432.625x360 with 1 Axes>"
      ]
     },
     "metadata": {
      "needs_background": "light"
     },
     "output_type": "display_data"
    }
   ],
   "source": [
    "sns.catplot(data=nss,x='Rel_Cat', y='MPCE_MRP' , hue='Gender', estimator=np.median );"
   ]
  }
 ],
 "metadata": {
  "kernelspec": {
   "display_name": "Python 3",
   "language": "python",
   "name": "python3"
  },
  "language_info": {
   "codemirror_mode": {
    "name": "ipython",
    "version": 3
   },
   "file_extension": ".py",
   "mimetype": "text/x-python",
   "name": "python",
   "nbconvert_exporter": "python",
   "pygments_lexer": "ipython3",
   "version": "3.6.5"
  }
 },
 "nbformat": 4,
 "nbformat_minor": 2
}
